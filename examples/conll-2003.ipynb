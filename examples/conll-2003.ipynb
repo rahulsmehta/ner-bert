{
 "cells": [
  {
   "cell_type": "markdown",
   "metadata": {},
   "source": [
    "### Conll 2003 evaluation\n",
    "\n",
    "Data downloaded from [here](https://github.com/kyzhouhzau/BERT-NER/tree/master/NERdata)."
   ]
  },
  {
   "cell_type": "code",
   "execution_count": 53,
   "metadata": {},
   "outputs": [],
   "source": [
    "%reload_ext autoreload\n",
    "%autoreload 2\n",
    "%matplotlib inline\n",
    "\n",
    "import pandas as pd\n",
    "import warnings\n",
    "import os\n",
    "import sys\n",
    "\n",
    "sys.path.append(\"../\")\n",
    "\n",
    "warnings.filterwarnings(\"ignore\")"
   ]
  },
  {
   "cell_type": "code",
   "execution_count": 54,
   "metadata": {},
   "outputs": [],
   "source": [
    "data_path = \"/home/ec2-user/datadrive/conll-2003/\"\n",
    "\n",
    "train_path = data_path + \"train.txt\"\n",
    "dev_path = data_path + \"dev.txt\"\n",
    "test_path = data_path + \"test.txt\""
   ]
  },
  {
   "cell_type": "markdown",
   "metadata": {},
   "source": [
    "### 0. Prc data for csv format"
   ]
  },
  {
   "cell_type": "code",
   "execution_count": 55,
   "metadata": {},
   "outputs": [],
   "source": [
    "import codecs\n",
    "\n",
    "\n",
    "def read_data(input_file):\n",
    "    \"\"\"Reads a BIO data.\"\"\"\n",
    "    with codecs.open(input_file, \"r\", encoding=\"utf-8\") as f:\n",
    "        lines = []\n",
    "        words = []\n",
    "        labels = []\n",
    "        for line in f:\n",
    "            contends = line.strip()\n",
    "            word = line.strip().split(' ')[0]\n",
    "            label = line.strip().split(' ')[-1]\n",
    "            if contends.startswith(\"-DOCSTART-\"):\n",
    "                words.append('')\n",
    "                continue\n",
    "            \n",
    "            if len(contends) == 0 and not len(words):\n",
    "                words.append(\"\")\n",
    "            \n",
    "            if len(contends) == 0 and words[-1] == '.':\n",
    "                l = ' '.join([label for label in labels if len(label) > 0])\n",
    "                w = ' '.join([word for word in words if len(word) > 0])\n",
    "                lines.append([l, w])\n",
    "                words = []\n",
    "                labels = []\n",
    "                continue\n",
    "            words.append(word)\n",
    "            labels.append(label.replace(\"-\", \"_\"))\n",
    "        return lines\n"
   ]
  },
  {
   "cell_type": "code",
   "execution_count": 56,
   "metadata": {},
   "outputs": [],
   "source": [
    "train_f = read_data(train_path)\n",
    "dev_f = read_data(dev_path)\n",
    "test_f = read_data(test_path)"
   ]
  },
  {
   "cell_type": "code",
   "execution_count": 5,
   "metadata": {},
   "outputs": [
    {
     "data": {
      "text/plain": [
       "[['B_ORG O B_MISC O O O B_MISC O O',\n",
       "  'EU rejects German call to boycott British lamb .'],\n",
       " ['B_PER I_PER B_LOC O O B_ORG I_ORG O O O O O O B_MISC O O O O O B_MISC O O O O O O O O O O O O O O',\n",
       "  'Peter Blackburn BRUSSELS 1996-08-22 The European Commission said on Thursday it disagreed with German advice to consumers to shun British lamb until scientists determine whether mad cow disease can be transmitted to sheep .'],\n",
       " ['B_LOC O O O O B_ORG I_ORG O O O B_PER I_PER O O O O O O O O O O O B_LOC O O O O O O O',\n",
       "  \"Germany 's representative to the European Union 's veterinary committee Werner Zwingmann said on Wednesday consumers should buy sheepmeat from countries other than Britain until the scientific advice was clearer .\"],\n",
       " ['O O O O O O O O O O O O O O O O O O O O B_ORG O O O B_PER I_PER I_PER I_PER O O O O O',\n",
       "  '\" We do n\\'t support any such recommendation because we do n\\'t see any grounds for it , \" the Commission \\'s chief spokesman Nikolaus van der Pas told a news briefing .'],\n",
       " ['O O O O O O O O O O O O O O O O O O O O O O B_ORG I_ORG O',\n",
       "  'He said further scientific study was required and if it was found that action was needed it should be taken by the European Union .']]"
      ]
     },
     "execution_count": 5,
     "metadata": {},
     "output_type": "execute_result"
    }
   ],
   "source": [
    "[l for l in train_f][:5]"
   ]
  },
  {
   "cell_type": "code",
   "execution_count": 6,
   "metadata": {},
   "outputs": [
    {
     "data": {
      "text/plain": [
       "(6973, 1739, 1559)"
      ]
     },
     "execution_count": 6,
     "metadata": {},
     "output_type": "execute_result"
    }
   ],
   "source": [
    "len(train_f), len(dev_f), len(test_f)"
   ]
  },
  {
   "cell_type": "code",
   "execution_count": 7,
   "metadata": {},
   "outputs": [
    {
     "data": {
      "text/plain": [
       "['B_ORG O B_MISC O O O B_MISC O O',\n",
       " 'EU rejects German call to boycott British lamb .']"
      ]
     },
     "execution_count": 7,
     "metadata": {},
     "output_type": "execute_result"
    }
   ],
   "source": [
    "train_f[0]"
   ]
  },
  {
   "cell_type": "code",
   "execution_count": 8,
   "metadata": {},
   "outputs": [],
   "source": [
    "import pandas as pd"
   ]
  },
  {
   "cell_type": "code",
   "execution_count": 9,
   "metadata": {},
   "outputs": [],
   "source": [
    "train_df = pd.DataFrame(train_f, columns=[\"0\", \"1\"])\n",
    "train_df.to_csv(data_path + \"train.csv\", index=False)"
   ]
  },
  {
   "cell_type": "code",
   "execution_count": 10,
   "metadata": {},
   "outputs": [],
   "source": [
    "valid_df = pd.DataFrame(dev_f, columns=[\"0\", \"1\"])\n",
    "valid_df.to_csv(data_path + \"valid.csv\", index=False)"
   ]
  },
  {
   "cell_type": "code",
   "execution_count": 11,
   "metadata": {},
   "outputs": [],
   "source": [
    "test_df = pd.DataFrame(test_f, columns=[\"0\", \"1\"])\n",
    "test_df.to_csv(data_path + \"test.csv\", index=False)"
   ]
  },
  {
   "cell_type": "markdown",
   "metadata": {},
   "source": [
    "### 1. Create data loaders"
   ]
  },
  {
   "cell_type": "code",
   "execution_count": 12,
   "metadata": {},
   "outputs": [],
   "source": [
    "import os\n",
    "\n",
    "data_path = \"/home/ec2-user/datadrive/conll-2003/\"\n",
    "train_path = data_path + \"train.csv\"\n",
    "valid_path = data_path + \"valid.csv\"\n",
    "test_path = data_path + \"test.csv\"\n",
    "\n",
    "model_dir = \"/home/ec2-user/datadrive/models/multi_cased_L-12_H-768_A-12/\"\n",
    "init_checkpoint_pt = os.path.join(\"/home/ec2-user/datadrive/bert/multi_cased_L-12_H-768_A-12/\", \"pytorch_model.bin\")\n",
    "bert_config_file = os.path.join(\"/home/ec2-user/datadrive/bert/multi_cased_L-12_H-768_A-12/\", \"bert_config.json\")\n",
    "vocab_file = os.path.join(\"/home/ec2-user/datadrive/bert/multi_cased_L-12_H-768_A-12/\", \"vocab.txt\")"
   ]
  },
  {
   "cell_type": "code",
   "execution_count": 13,
   "metadata": {},
   "outputs": [
    {
     "data": {
      "text/plain": [
       "(True, 0)"
      ]
     },
     "execution_count": 13,
     "metadata": {},
     "output_type": "execute_result"
    }
   ],
   "source": [
    "import torch\n",
    "torch.cuda.set_device(0)\n",
    "torch.cuda.is_available(), torch.cuda.current_device()"
   ]
  },
  {
   "cell_type": "code",
   "execution_count": 14,
   "metadata": {},
   "outputs": [],
   "source": [
    "from modules import BertNerData as NerData"
   ]
  },
  {
   "cell_type": "code",
   "execution_count": 15,
   "metadata": {},
   "outputs": [
    {
     "name": "stderr",
     "output_type": "stream",
     "text": []
    }
   ],
   "source": [
    "data = NerData.create(train_path, valid_path, vocab_file)"
   ]
  },
  {
   "cell_type": "code",
   "execution_count": 16,
   "metadata": {},
   "outputs": [
    {
     "data": {
      "text/plain": [
       "(6973, 1739)"
      ]
     },
     "execution_count": 16,
     "metadata": {},
     "output_type": "execute_result"
    }
   ],
   "source": [
    "len(data.train_dl.dataset), len(data.valid_dl.dataset)"
   ]
  },
  {
   "cell_type": "code",
   "execution_count": 17,
   "metadata": {},
   "outputs": [
    {
     "name": "stdout",
     "output_type": "stream",
     "text": [
      "['<pad>', '[CLS]', 'B_ORG', 'B_O', 'X', 'B_MISC', 'B_PER', 'I_PER', 'B_LOC', 'I_ORG', 'I_MISC', 'I_LOC']\n"
     ]
    }
   ],
   "source": [
    "print(data.id2label)"
   ]
  },
  {
   "cell_type": "code",
   "execution_count": 18,
   "metadata": {},
   "outputs": [],
   "source": [
    "sup_labels = ['B_ORG', 'B_MISC', 'B_PER', 'I_PER', 'B_LOC', 'I_LOC', 'I_ORG', 'I_MISC']"
   ]
  },
  {
   "cell_type": "code",
   "execution_count": 19,
   "metadata": {},
   "outputs": [
    {
     "data": {
      "text/plain": [
       "424"
      ]
     },
     "execution_count": 19,
     "metadata": {},
     "output_type": "execute_result"
    }
   ],
   "source": [
    "max([len(f.labels_ids) for f in data.train_dl.dataset])"
   ]
  },
  {
   "cell_type": "markdown",
   "metadata": {},
   "source": [
    "### 2. Create model"
   ]
  },
  {
   "cell_type": "code",
   "execution_count": 20,
   "metadata": {},
   "outputs": [],
   "source": [
    "from modules.models.bert_models import BertBiLSTMAttnCRF"
   ]
  },
  {
   "cell_type": "code",
   "execution_count": 21,
   "metadata": {},
   "outputs": [],
   "source": [
    "model = BertBiLSTMAttnCRF.create(len(data.label2idx), bert_config_file, init_checkpoint_pt, enc_hidden_dim=256)"
   ]
  },
  {
   "cell_type": "code",
   "execution_count": 22,
   "metadata": {},
   "outputs": [],
   "source": [
    "def param_count(model):\n",
    "    total = 0\n",
    "    for name,param in model.named_parameters():\n",
    "        total += torch.norm(param, p=0).item()\n",
    "    return total"
   ]
  },
  {
   "cell_type": "code",
   "execution_count": 23,
   "metadata": {},
   "outputs": [
    {
     "data": {
      "text/plain": [
       "179004765.0"
      ]
     },
     "execution_count": 23,
     "metadata": {},
     "output_type": "execute_result"
    }
   ],
   "source": [
    "param_count(model)"
   ]
  },
  {
   "cell_type": "code",
   "execution_count": 24,
   "metadata": {},
   "outputs": [],
   "source": [
    "import re\n",
    "def select_params(model, keyword, enc=True):\n",
    "    matches = []\n",
    "    for name,param in model.named_parameters():\n",
    "        if 'bias' in name or 'gamma' in name or 'beta' in name:\n",
    "            continue\n",
    "        if enc and 'decoder' in name:\n",
    "            continue\n",
    "        if not enc and 'encoder' in name:\n",
    "            continue\n",
    "        if re.match(keyword,name):\n",
    "            matches.append(name)\n",
    "    return matches"
   ]
  },
  {
   "cell_type": "markdown",
   "metadata": {},
   "source": [
    "### Define param groups for sensitivity analysis"
   ]
  },
  {
   "cell_type": "code",
   "execution_count": 25,
   "metadata": {},
   "outputs": [
    {
     "data": {
      "text/plain": [
       "['encoder.embeddings.model.embeddings.word_embeddings.weight']"
      ]
     },
     "execution_count": 25,
     "metadata": {},
     "output_type": "execute_result"
    }
   ],
   "source": [
    "sens_embedding = select_params(model, 'encoder.*embedding.*word_embeddings')\n",
    "sens_embedding"
   ]
  },
  {
   "cell_type": "code",
   "execution_count": 26,
   "metadata": {},
   "outputs": [
    {
     "data": {
      "text/plain": [
       "['encoder.embeddings.model.encoder.layer.0.intermediate.dense.weight',\n",
       " 'encoder.embeddings.model.encoder.layer.1.intermediate.dense.weight',\n",
       " 'encoder.embeddings.model.encoder.layer.2.intermediate.dense.weight',\n",
       " 'encoder.embeddings.model.encoder.layer.3.intermediate.dense.weight',\n",
       " 'encoder.embeddings.model.encoder.layer.4.intermediate.dense.weight',\n",
       " 'encoder.embeddings.model.encoder.layer.5.intermediate.dense.weight',\n",
       " 'encoder.embeddings.model.encoder.layer.6.intermediate.dense.weight',\n",
       " 'encoder.embeddings.model.encoder.layer.7.intermediate.dense.weight',\n",
       " 'encoder.embeddings.model.encoder.layer.8.intermediate.dense.weight',\n",
       " 'encoder.embeddings.model.encoder.layer.9.intermediate.dense.weight',\n",
       " 'encoder.embeddings.model.encoder.layer.10.intermediate.dense.weight',\n",
       " 'encoder.embeddings.model.encoder.layer.11.intermediate.dense.weight']"
      ]
     },
     "execution_count": 26,
     "metadata": {},
     "output_type": "execute_result"
    }
   ],
   "source": [
    "sens_intermediate = select_params(model, 'encoder.*intermediate')\n",
    "sens_intermediate"
   ]
  },
  {
   "cell_type": "markdown",
   "metadata": {},
   "source": [
    "#### Self-attention (query)"
   ]
  },
  {
   "cell_type": "code",
   "execution_count": 27,
   "metadata": {},
   "outputs": [
    {
     "data": {
      "text/plain": [
       "['encoder.embeddings.model.encoder.layer.0.attention.self.query.weight',\n",
       " 'encoder.embeddings.model.encoder.layer.1.attention.self.query.weight',\n",
       " 'encoder.embeddings.model.encoder.layer.2.attention.self.query.weight',\n",
       " 'encoder.embeddings.model.encoder.layer.3.attention.self.query.weight',\n",
       " 'encoder.embeddings.model.encoder.layer.4.attention.self.query.weight',\n",
       " 'encoder.embeddings.model.encoder.layer.5.attention.self.query.weight',\n",
       " 'encoder.embeddings.model.encoder.layer.6.attention.self.query.weight',\n",
       " 'encoder.embeddings.model.encoder.layer.7.attention.self.query.weight',\n",
       " 'encoder.embeddings.model.encoder.layer.8.attention.self.query.weight',\n",
       " 'encoder.embeddings.model.encoder.layer.9.attention.self.query.weight',\n",
       " 'encoder.embeddings.model.encoder.layer.10.attention.self.query.weight',\n",
       " 'encoder.embeddings.model.encoder.layer.11.attention.self.query.weight']"
      ]
     },
     "execution_count": 27,
     "metadata": {},
     "output_type": "execute_result"
    }
   ],
   "source": [
    "sens_attn_query = select_params(model, 'encoder.*attention.*query')\n",
    "sens_attn_query"
   ]
  },
  {
   "cell_type": "markdown",
   "metadata": {},
   "source": [
    "#### Self-attention (key)"
   ]
  },
  {
   "cell_type": "code",
   "execution_count": 28,
   "metadata": {},
   "outputs": [
    {
     "data": {
      "text/plain": [
       "['encoder.embeddings.model.encoder.layer.0.attention.self.key.weight',\n",
       " 'encoder.embeddings.model.encoder.layer.1.attention.self.key.weight',\n",
       " 'encoder.embeddings.model.encoder.layer.2.attention.self.key.weight',\n",
       " 'encoder.embeddings.model.encoder.layer.3.attention.self.key.weight',\n",
       " 'encoder.embeddings.model.encoder.layer.4.attention.self.key.weight',\n",
       " 'encoder.embeddings.model.encoder.layer.5.attention.self.key.weight',\n",
       " 'encoder.embeddings.model.encoder.layer.6.attention.self.key.weight',\n",
       " 'encoder.embeddings.model.encoder.layer.7.attention.self.key.weight',\n",
       " 'encoder.embeddings.model.encoder.layer.8.attention.self.key.weight',\n",
       " 'encoder.embeddings.model.encoder.layer.9.attention.self.key.weight',\n",
       " 'encoder.embeddings.model.encoder.layer.10.attention.self.key.weight',\n",
       " 'encoder.embeddings.model.encoder.layer.11.attention.self.key.weight']"
      ]
     },
     "execution_count": 28,
     "metadata": {},
     "output_type": "execute_result"
    }
   ],
   "source": [
    "sens_attn_key = select_params(model, 'encoder.*attention.*key')\n",
    "sens_attn_key"
   ]
  },
  {
   "cell_type": "markdown",
   "metadata": {},
   "source": [
    "#### Self-attention (value)"
   ]
  },
  {
   "cell_type": "code",
   "execution_count": 29,
   "metadata": {},
   "outputs": [
    {
     "data": {
      "text/plain": [
       "['encoder.embeddings.model.encoder.layer.0.attention.self.value.weight',\n",
       " 'encoder.embeddings.model.encoder.layer.1.attention.self.value.weight',\n",
       " 'encoder.embeddings.model.encoder.layer.2.attention.self.value.weight',\n",
       " 'encoder.embeddings.model.encoder.layer.3.attention.self.value.weight',\n",
       " 'encoder.embeddings.model.encoder.layer.4.attention.self.value.weight',\n",
       " 'encoder.embeddings.model.encoder.layer.5.attention.self.value.weight',\n",
       " 'encoder.embeddings.model.encoder.layer.6.attention.self.value.weight',\n",
       " 'encoder.embeddings.model.encoder.layer.7.attention.self.value.weight',\n",
       " 'encoder.embeddings.model.encoder.layer.8.attention.self.value.weight',\n",
       " 'encoder.embeddings.model.encoder.layer.9.attention.self.value.weight',\n",
       " 'encoder.embeddings.model.encoder.layer.10.attention.self.value.weight',\n",
       " 'encoder.embeddings.model.encoder.layer.11.attention.self.value.weight']"
      ]
     },
     "execution_count": 29,
     "metadata": {},
     "output_type": "execute_result"
    }
   ],
   "source": [
    "sens_attn_value = select_params(model, 'encoder.*attention.*value')\n",
    "sens_attn_value"
   ]
  },
  {
   "cell_type": "markdown",
   "metadata": {},
   "source": [
    "#### Attention output (dense)"
   ]
  },
  {
   "cell_type": "code",
   "execution_count": 30,
   "metadata": {},
   "outputs": [
    {
     "data": {
      "text/plain": [
       "['encoder.embeddings.model.encoder.layer.0.attention.output.dense.weight',\n",
       " 'encoder.embeddings.model.encoder.layer.1.attention.output.dense.weight',\n",
       " 'encoder.embeddings.model.encoder.layer.2.attention.output.dense.weight',\n",
       " 'encoder.embeddings.model.encoder.layer.3.attention.output.dense.weight',\n",
       " 'encoder.embeddings.model.encoder.layer.4.attention.output.dense.weight',\n",
       " 'encoder.embeddings.model.encoder.layer.5.attention.output.dense.weight',\n",
       " 'encoder.embeddings.model.encoder.layer.6.attention.output.dense.weight',\n",
       " 'encoder.embeddings.model.encoder.layer.7.attention.output.dense.weight',\n",
       " 'encoder.embeddings.model.encoder.layer.8.attention.output.dense.weight',\n",
       " 'encoder.embeddings.model.encoder.layer.9.attention.output.dense.weight',\n",
       " 'encoder.embeddings.model.encoder.layer.10.attention.output.dense.weight',\n",
       " 'encoder.embeddings.model.encoder.layer.11.attention.output.dense.weight']"
      ]
     },
     "execution_count": 30,
     "metadata": {},
     "output_type": "execute_result"
    }
   ],
   "source": [
    "sens_attn_output = select_params(model, 'encoder.*attention.*output.*')\n",
    "sens_attn_output"
   ]
  },
  {
   "cell_type": "markdown",
   "metadata": {},
   "source": [
    "#### Non-attention output dense"
   ]
  },
  {
   "cell_type": "code",
   "execution_count": 31,
   "metadata": {},
   "outputs": [
    {
     "data": {
      "text/plain": [
       "['encoder.embeddings.model.encoder.layer.0.output.dense.weight',\n",
       " 'encoder.embeddings.model.encoder.layer.7.output.dense.weight',\n",
       " 'encoder.embeddings.model.encoder.layer.4.output.dense.weight',\n",
       " 'encoder.embeddings.model.encoder.layer.2.output.dense.weight',\n",
       " 'encoder.embeddings.model.encoder.layer.3.output.dense.weight',\n",
       " 'encoder.embeddings.model.encoder.layer.10.output.dense.weight',\n",
       " 'encoder.embeddings.model.encoder.layer.6.output.dense.weight',\n",
       " 'encoder.embeddings.model.encoder.layer.9.output.dense.weight',\n",
       " 'encoder.embeddings.model.encoder.layer.11.output.dense.weight',\n",
       " 'encoder.embeddings.model.encoder.layer.8.output.dense.weight',\n",
       " 'encoder.embeddings.model.encoder.layer.5.output.dense.weight',\n",
       " 'encoder.embeddings.model.encoder.layer.1.output.dense.weight']"
      ]
     },
     "execution_count": 31,
     "metadata": {},
     "output_type": "execute_result"
    }
   ],
   "source": [
    "sens_out_dense = list(set(select_params(model, 'encoder.*output.*dense')) - set(select_params(model, 'encoder.*attention.*output.*dense')))\n",
    "sens_out_dense"
   ]
  },
  {
   "cell_type": "code",
   "execution_count": 32,
   "metadata": {},
   "outputs": [
    {
     "data": {
      "text/plain": [
       "['decoder.linear.linears.0.weight', 'decoder.linear.output_linear.weight']"
      ]
     },
     "execution_count": 32,
     "metadata": {},
     "output_type": "execute_result"
    }
   ],
   "source": [
    "sens_dec_linear = select_params(model, 'decoder.linear*', enc=False)\n",
    "sens_dec_linear"
   ]
  },
  {
   "cell_type": "code",
   "execution_count": 33,
   "metadata": {},
   "outputs": [
    {
     "data": {
      "text/plain": [
       "['decoder.attn.attention.w_q',\n",
       " 'decoder.attn.attention.w_k',\n",
       " 'decoder.attn.attention.w_v',\n",
       " 'decoder.attn.proj.weight']"
      ]
     },
     "execution_count": 33,
     "metadata": {},
     "output_type": "execute_result"
    }
   ],
   "source": [
    "sens_dec_attn = select_params(model, 'decoder.attn*', enc=False)\n",
    "sens_dec_attn"
   ]
  },
  {
   "cell_type": "markdown",
   "metadata": {},
   "source": [
    "### 2a. Pruning/Sensitivity Analysis"
   ]
  },
  {
   "cell_type": "code",
   "execution_count": 34,
   "metadata": {},
   "outputs": [],
   "source": [
    "def parse_f1(result):\n",
    "    rows = result.split('\\n')\n",
    "    mat = list(map(lambda r: r.split('     '), rows))\n",
    "    f1 = float(mat[-2][-2])\n",
    "    return f1"
   ]
  },
  {
   "cell_type": "code",
   "execution_count": 35,
   "metadata": {},
   "outputs": [],
   "source": [
    "sensitivity_cpt_path = '/home/ec2-user/datadrive/models/conll-2003/bilstm_attn_trained_for_sensitivity.cpt'\n",
    "# model = BertBiLSTMAttnCRF.create(len(data.label2idx), bert_config_file, init_checkpoint_pt, enc_hidden_dim=256)\n",
    "model.load_state_dict(torch.load(sensitivity_cpt_path))\n",
    "torch.cuda.empty_cache()\n",
    "# torch.cuda.set_device(1)"
   ]
  },
  {
   "cell_type": "code",
   "execution_count": 36,
   "metadata": {},
   "outputs": [],
   "source": [
    "from modules import NerLearner\n",
    "num_epochs = 100\n",
    "learner = NerLearner(model, data,\n",
    "                     best_model_path=\"/home/ec2-user/datadrive/models/conll-2003/other.cpt\",\n",
    "                     lr=0.001, clip=1.0, sup_labels=data.id2label[5:],\n",
    "                     t_total=num_epochs * len(data.train_dl))"
   ]
  },
  {
   "cell_type": "code",
   "execution_count": 37,
   "metadata": {},
   "outputs": [
    {
     "name": "stderr",
     "output_type": "stream",
     "text": []
    }
   ],
   "source": [
    "from modules.data.bert_data import get_bert_data_loader_for_predict\n",
    "from modules.train.train import validate_step\n",
    "dl = get_bert_data_loader_for_predict(data_path + \"test.csv\", learner)\n",
    "# preds = learner.predict(dl)\n",
    "data = NerData.create(train_path, data_path + \"test.csv\", vocab_file)\n",
    "# print(validate_step(data.valid_dl, model, learner.data.id2label, learner.sup_labels))"
   ]
  },
  {
   "cell_type": "code",
   "execution_count": 38,
   "metadata": {},
   "outputs": [
    {
     "name": "stderr",
     "output_type": "stream",
     "text": [
      "                                               "
     ]
    },
    {
     "name": "stdout",
     "output_type": "stream",
     "text": [
      "             precision    recall  f1-score   support\n",
      "\n",
      "     B_MISC      0.834     0.831     0.833       688\n",
      "      B_PER      0.947     0.962     0.954      1566\n",
      "      I_PER      0.979     0.994     0.986      1134\n",
      "      B_LOC      0.916     0.929     0.922      1570\n",
      "      I_ORG      0.868     0.892     0.880       835\n",
      "     I_MISC      0.664     0.721     0.691       222\n",
      "      I_LOC      0.841     0.871     0.856       249\n",
      "\n",
      "avg / total      0.908     0.924     0.916      6264\n",
      "\n"
     ]
    },
    {
     "name": "stderr",
     "output_type": "stream",
     "text": []
    }
   ],
   "source": [
    "base_result = validate_step(data.valid_dl, model, learner.data.id2label, learner.sup_labels)\n",
    "print(base_result)"
   ]
  },
  {
   "cell_type": "code",
   "execution_count": 40,
   "metadata": {},
   "outputs": [
    {
     "data": {
      "text/plain": [
       "0.916"
      ]
     },
     "execution_count": 40,
     "metadata": {},
     "output_type": "execute_result"
    }
   ],
   "source": [
    "parse_f1(base_result)"
   ]
  },
  {
   "cell_type": "code",
   "execution_count": 41,
   "metadata": {},
   "outputs": [],
   "source": [
    "from sparsity_pruning import SparsityPruner\n",
    "sens_attn = sens_attn_key + sens_attn_output + sens_attn_query + sens_attn_value\n",
    "sens_enc = sens_embedding + sens_intermediate + sens_out_dense + sens_attn\n",
    "sens_dec = sens_dec_attn + sens_dec_linear"
   ]
  },
  {
   "cell_type": "code",
   "execution_count": 59,
   "metadata": {},
   "outputs": [],
   "source": [
    "sensitivity_cpt_path = '/home/ec2-user/datadrive/models/conll-2003/bilstm_attn_trained_for_sensitivity.cpt'\n",
    "# model = BertBiLSTMAttnCRF.create(len(data.label2idx), bert_config_file, init_checkpoint_pt, enc_hidden_dim=256)\n",
    "model.load_state_dict(torch.load(sensitivity_cpt_path))\n",
    "torch.cuda.empty_cache()"
   ]
  },
  {
   "cell_type": "code",
   "execution_count": 60,
   "metadata": {},
   "outputs": [
    {
     "name": "stdout",
     "output_type": "stream",
     "text": [
      "Retaining 80.0% params\n"
     ]
    },
    {
     "name": "stderr",
     "output_type": "stream",
     "text": []
    },
    {
     "name": "stdout",
     "output_type": "stream",
     "text": [
      "80.0% params, F1: 0.916\n",
      "Retaining 64.0% params\n"
     ]
    },
    {
     "name": "stderr",
     "output_type": "stream",
     "text": []
    },
    {
     "name": "stdout",
     "output_type": "stream",
     "text": [
      "64.0% params, F1: 0.914\n",
      "Retaining 51.2% params\n"
     ]
    },
    {
     "name": "stderr",
     "output_type": "stream",
     "text": []
    },
    {
     "name": "stdout",
     "output_type": "stream",
     "text": [
      "51.2% params, F1: 0.914\n",
      "Retaining 41.0% params\n"
     ]
    },
    {
     "name": "stderr",
     "output_type": "stream",
     "text": []
    },
    {
     "name": "stdout",
     "output_type": "stream",
     "text": [
      "41.0% params, F1: 0.907\n",
      "Retaining 32.8% params\n"
     ]
    },
    {
     "name": "stderr",
     "output_type": "stream",
     "text": []
    },
    {
     "name": "stdout",
     "output_type": "stream",
     "text": [
      "32.8% params, F1: 0.884\n",
      "Retaining 26.2% params\n"
     ]
    },
    {
     "name": "stderr",
     "output_type": "stream",
     "text": []
    },
    {
     "name": "stdout",
     "output_type": "stream",
     "text": [
      "26.2% params, F1: 0.852\n",
      "Retaining 21.0% params\n"
     ]
    },
    {
     "name": "stderr",
     "output_type": "stream",
     "text": []
    },
    {
     "name": "stdout",
     "output_type": "stream",
     "text": [
      "21.0% params, F1: 0.799\n",
      "Retaining 16.8% params\n"
     ]
    },
    {
     "name": "stderr",
     "output_type": "stream",
     "text": []
    },
    {
     "name": "stdout",
     "output_type": "stream",
     "text": [
      "16.8% params, F1: 0.733\n",
      "Retaining 13.4% params\n"
     ]
    },
    {
     "name": "stderr",
     "output_type": "stream",
     "text": []
    },
    {
     "name": "stdout",
     "output_type": "stream",
     "text": [
      "13.4% params, F1: 0.645\n",
      "Retaining 10.7% params\n"
     ]
    },
    {
     "name": "stderr",
     "output_type": "stream",
     "text": [
      "  0%|          | 0/98 [00:00<?, ?it/s]"
     ]
    },
    {
     "name": "stdout",
     "output_type": "stream",
     "text": [
      "10.7% params, F1: 0.51\n",
      "Retaining 8.6% params\n"
     ]
    },
    {
     "name": "stderr",
     "output_type": "stream",
     "text": [
      "  0%|          | 0/98 [00:00<?, ?it/s]"
     ]
    },
    {
     "name": "stdout",
     "output_type": "stream",
     "text": [
      "8.6% params, F1: 0.363\n",
      "Retaining 6.9% params\n"
     ]
    },
    {
     "name": "stderr",
     "output_type": "stream",
     "text": [
      "  0%|          | 0/98 [00:00<?, ?it/s]"
     ]
    },
    {
     "name": "stdout",
     "output_type": "stream",
     "text": [
      "6.9% params, F1: 0.24\n",
      "Retaining 5.5% params\n"
     ]
    },
    {
     "name": "stderr",
     "output_type": "stream",
     "text": [
      "  0%|          | 0/98 [00:00<?, ?it/s]"
     ]
    },
    {
     "name": "stdout",
     "output_type": "stream",
     "text": [
      "5.5% params, F1: 0.137\n",
      "Retaining 4.4% params\n"
     ]
    },
    {
     "name": "stderr",
     "output_type": "stream",
     "text": [
      "  0%|          | 0/98 [00:00<?, ?it/s]"
     ]
    },
    {
     "name": "stdout",
     "output_type": "stream",
     "text": [
      "4.4% params, F1: 0.077\n",
      "Retaining 3.5% params\n"
     ]
    },
    {
     "name": "stderr",
     "output_type": "stream",
     "text": [
      "                                               "
     ]
    },
    {
     "name": "stdout",
     "output_type": "stream",
     "text": [
      "3.5% params, F1: 0.041\n"
     ]
    },
    {
     "name": "stderr",
     "output_type": "stream",
     "text": []
    }
   ],
   "source": [
    "pruner = SparsityPruner(model, sens_embedding)\n",
    "scores_embedding = []\n",
    "for i in range(15):\n",
    "    print('Retaining {:.1f}% params'.format(.8**(i+1)*100))\n",
    "    pruner.prune(.8)\n",
    "    result = validate_step(data.valid_dl, model, learner.data.id2label, learner.sup_labels)\n",
    "    f1 = parse_f1(result)\n",
    "    scores_embedding.append(f1)\n",
    "    print('{:.1f}% params, F1: {}'.format(.8**(i+1)*100,f1))"
   ]
  },
  {
   "cell_type": "code",
   "execution_count": 62,
   "metadata": {},
   "outputs": [
    {
     "ename": "NameError",
     "evalue": "name 'scores_intermediate' is not defined",
     "output_type": "error",
     "traceback": [
      "\u001b[0;31m---------------------------------------------------------------------------\u001b[0m",
      "\u001b[0;31mNameError\u001b[0m                                 Traceback (most recent call last)",
      "\u001b[0;32m<ipython-input-62-a0ad93c5a660>\u001b[0m in \u001b[0;36m<module>\u001b[0;34m()\u001b[0m\n\u001b[1;32m      4\u001b[0m \u001b[0mlevels\u001b[0m \u001b[0;34m=\u001b[0m \u001b[0mlist\u001b[0m\u001b[0;34m(\u001b[0m\u001b[0mrange\u001b[0m\u001b[0;34m(\u001b[0m\u001b[0;36m15\u001b[0m\u001b[0;34m)\u001b[0m\u001b[0;34m)\u001b[0m\u001b[0;34m\u001b[0m\u001b[0m\n\u001b[1;32m      5\u001b[0m \u001b[0mplt\u001b[0m\u001b[0;34m.\u001b[0m\u001b[0mplot\u001b[0m\u001b[0;34m(\u001b[0m\u001b[0mlevels\u001b[0m\u001b[0;34m,\u001b[0m \u001b[0mscores_embedding\u001b[0m\u001b[0;34m,\u001b[0m \u001b[0mlabel\u001b[0m\u001b[0;34m=\u001b[0m\u001b[0;34m'encoder.embedding'\u001b[0m\u001b[0;34m)\u001b[0m\u001b[0;34m\u001b[0m\u001b[0m\n\u001b[0;32m----> 6\u001b[0;31m \u001b[0mplt\u001b[0m\u001b[0;34m.\u001b[0m\u001b[0mplot\u001b[0m\u001b[0;34m(\u001b[0m\u001b[0mlevels\u001b[0m\u001b[0;34m,\u001b[0m \u001b[0mscores_intermediate\u001b[0m\u001b[0;34m,\u001b[0m \u001b[0mlabel\u001b[0m\u001b[0;34m=\u001b[0m\u001b[0;34m'encoder.intermediate (dense)'\u001b[0m\u001b[0;34m)\u001b[0m\u001b[0;34m\u001b[0m\u001b[0m\n\u001b[0m\u001b[1;32m      7\u001b[0m \u001b[0mplt\u001b[0m\u001b[0;34m.\u001b[0m\u001b[0mplot\u001b[0m\u001b[0;34m(\u001b[0m\u001b[0mlevels\u001b[0m\u001b[0;34m,\u001b[0m \u001b[0mscores_attn\u001b[0m\u001b[0;34m,\u001b[0m \u001b[0mlabel\u001b[0m\u001b[0;34m=\u001b[0m\u001b[0;34m'encoder.attention (weight)'\u001b[0m\u001b[0;34m)\u001b[0m\u001b[0;34m\u001b[0m\u001b[0m\n\u001b[1;32m      8\u001b[0m \u001b[0mplt\u001b[0m\u001b[0;34m.\u001b[0m\u001b[0mplot\u001b[0m\u001b[0;34m(\u001b[0m\u001b[0mlevels\u001b[0m\u001b[0;34m,\u001b[0m \u001b[0mscores_out_dense\u001b[0m\u001b[0;34m,\u001b[0m \u001b[0mlabel\u001b[0m\u001b[0;34m=\u001b[0m\u001b[0;34m'encoder.output (dense)'\u001b[0m\u001b[0;34m)\u001b[0m\u001b[0;34m\u001b[0m\u001b[0m\n",
      "\u001b[0;31mNameError\u001b[0m: name 'scores_intermediate' is not defined"
     ]
    },
    {
     "data": {
      "image/png": "[encoded data removed]",
      "text/plain": [
       "<Figure size 864x432 with 1 Axes>"
      ]
     },
     "metadata": {},
     "output_type": "display_data"
    }
   ],
   "source": [
    "import matplotlib.pylab as plt\n",
    "plt.rcParams['figure.figsize'] = (12, 6)\n",
    "axis_levels = ['{:.1f}'.format(0.8**(i+1)*100) for i in range(15)]\n",
    "levels = list(range(15))\n",
    "plt.plot(levels, scores_embedding, label='encoder.embedding')\n",
    "plt.plot(levels, scores_intermediate, label='encoder.intermediate (dense)')\n",
    "plt.plot(levels, scores_attn, label='encoder.attention (weight)')\n",
    "plt.plot(levels, scores_out_dense, label='encoder.output (dense)')\n",
    "plt.plot(levels, scores_dec_linear, label='decoder.linear (dense)')\n",
    "plt.plot(levels, scores_dec_attn, label='decoder.attention (dense)')\n",
    "# plt.xlim(.8,0)\n",
    "# plt.ylim(0,1)\n",
    "plt.ylabel('F1 (Test)')\n",
    "plt.xlabel('Pct. params remaining')\n",
    "plt.xticks(levels, axis_levels)\n",
    "plt.legend()"
   ]
  },
  {
   "cell_type": "code",
   "execution_count": 72,
   "metadata": {},
   "outputs": [
    {
     "name": "stdout",
     "output_type": "stream",
     "text": [
      "<reversed object at 0x7f6ac408a550>\n"
     ]
    }
   ],
   "source": []
  },
  {
   "cell_type": "code",
   "execution_count": 95,
   "metadata": {},
   "outputs": [
    {
     "name": "stderr",
     "output_type": "stream",
     "text": [
      "                                               "
     ]
    },
    {
     "name": "stdout",
     "output_type": "stream",
     "text": [
      "             precision    recall  f1-score   support\n",
      "\n",
      "     B_MISC      0.565     0.778     0.654       688\n",
      "      B_PER      0.703     0.762     0.731      1566\n",
      "      I_PER      0.933     0.538     0.682      1134\n",
      "      B_LOC      0.831     0.815     0.823      1570\n",
      "      I_ORG      0.621     0.631     0.626       835\n",
      "     I_MISC      0.272     0.613     0.377       222\n",
      "      I_LOC      0.694     0.574     0.629       249\n",
      "\n",
      "avg / total      0.735     0.706     0.706      6264\n",
      "\n"
     ]
    },
    {
     "name": "stderr",
     "output_type": "stream",
     "text": []
    }
   ],
   "source": [
    "result = validate_step(data.valid_dl, model, learner.data.id2label, learner.sup_labels)\n",
    "print(result)"
   ]
  },
  {
   "cell_type": "code",
   "execution_count": 41,
   "metadata": {},
   "outputs": [
    {
     "data": {
      "text/plain": [
       "['encoder.embeddings.model.embeddings.word_embeddings.weight',\n",
       " 'encoder.embeddings.model.encoder.layer.0.intermediate.dense.weight',\n",
       " 'encoder.embeddings.model.encoder.layer.1.intermediate.dense.weight',\n",
       " 'encoder.embeddings.model.encoder.layer.2.intermediate.dense.weight',\n",
       " 'encoder.embeddings.model.encoder.layer.3.intermediate.dense.weight',\n",
       " 'encoder.embeddings.model.encoder.layer.4.intermediate.dense.weight',\n",
       " 'encoder.embeddings.model.encoder.layer.5.intermediate.dense.weight',\n",
       " 'encoder.embeddings.model.encoder.layer.6.intermediate.dense.weight',\n",
       " 'encoder.embeddings.model.encoder.layer.7.intermediate.dense.weight',\n",
       " 'encoder.embeddings.model.encoder.layer.8.intermediate.dense.weight',\n",
       " 'encoder.embeddings.model.encoder.layer.9.intermediate.dense.weight',\n",
       " 'encoder.embeddings.model.encoder.layer.10.intermediate.dense.weight',\n",
       " 'encoder.embeddings.model.encoder.layer.11.intermediate.dense.weight']"
      ]
     },
     "execution_count": 41,
     "metadata": {},
     "output_type": "execute_result"
    }
   ],
   "source": [
    "sens_embedding + sens_intermediate"
   ]
  },
  {
   "cell_type": "code",
   "execution_count": 48,
   "metadata": {},
   "outputs": [
    {
     "data": {
      "text/plain": [
       "179005021.0"
      ]
     },
     "execution_count": 48,
     "metadata": {},
     "output_type": "execute_result"
    }
   ],
   "source": [
    "#n. params org.\n",
    "param_count(model)"
   ]
  },
  {
   "cell_type": "code",
   "execution_count": 46,
   "metadata": {},
   "outputs": [
    {
     "data": {
      "text/plain": [
       "164849245.0"
      ]
     },
     "execution_count": 46,
     "metadata": {},
     "output_type": "execute_result"
    }
   ],
   "source": [
    "#n. params pruned\n",
    "param_count(model)"
   ]
  },
  {
   "cell_type": "markdown",
   "metadata": {},
   "source": [
    "### Iterative pruning"
   ]
  },
  {
   "cell_type": "code",
   "execution_count": 193,
   "metadata": {},
   "outputs": [],
   "source": [
    "sensitivity_cpt_path = '/home/ec2-user/datadrive/models/conll-2003/bilstm_attn_trained_for_sensitivity.cpt'\n",
    "# model = BertBiLSTMAttnCRF.create(len(data.label2idx), bert_config_file, init_checkpoint_pt, enc_hidden_dim=256)\n",
    "model.load_state_dict(torch.load(sensitivity_cpt_path))\n",
    "torch.cuda.empty_cache()"
   ]
  },
  {
   "cell_type": "code",
   "execution_count": 52,
   "metadata": {},
   "outputs": [
    {
     "name": "stdout",
     "output_type": "stream",
     "text": [
      "Retaining 64.0% params\n"
     ]
    },
    {
     "name": "stderr",
     "output_type": "stream",
     "text": [
      "2019-04-23 05:38:47,900 INFO: Resuming train... Current epoch 5.\n",
      "2019-04-23 05:40:06,632 INFO: \n",
      "epoch 6, average train epoch loss=3.739\n",
      "\n",
      "2019-04-23 05:40:19,583 INFO: on epoch 2 by max_f1: 0.958\n",
      "  0%|          | 0/436 [00:00<?, ?it/s]"
     ]
    },
    {
     "name": "stdout",
     "output_type": "stream",
     "text": [
      "             precision    recall  f1-score   support\n",
      "\n",
      "     B_MISC      0.906     0.860     0.882       905\n",
      "      B_PER      0.939     0.897     0.917      1686\n",
      "      I_PER      0.965     0.946     0.956      1170\n",
      "      B_LOC      0.896     0.923     0.909      1669\n",
      "      I_ORG      0.912     0.764     0.832       734\n",
      "     I_MISC      0.820     0.778     0.799       352\n",
      "      I_LOC      0.839     0.911     0.873       257\n",
      "\n",
      "avg / total      0.916     0.887     0.900      6773\n",
      "\n"
     ]
    },
    {
     "name": "stderr",
     "output_type": "stream",
     "text": [
      "2019-04-23 05:41:40,042 INFO: \n",
      "epoch 7, average train epoch loss=1.219\n",
      "\n",
      "2019-04-23 05:41:53,051 INFO: on epoch 2 by max_f1: 0.958\n",
      "  0%|          | 0/436 [00:00<?, ?it/s]"
     ]
    },
    {
     "name": "stdout",
     "output_type": "stream",
     "text": [
      "             precision    recall  f1-score   support\n",
      "\n",
      "     B_MISC      0.867     0.883     0.875       905\n",
      "      B_PER      0.909     0.941     0.925      1686\n",
      "      I_PER      0.947     0.970     0.958      1170\n",
      "      B_LOC      0.892     0.932     0.912      1669\n",
      "      I_ORG      0.887     0.827     0.856       734\n",
      "     I_MISC      0.818     0.793     0.805       352\n",
      "      I_LOC      0.913     0.856     0.884       257\n",
      "\n",
      "avg / total      0.899     0.913     0.905      6773\n",
      "\n"
     ]
    },
    {
     "name": "stderr",
     "output_type": "stream",
     "text": [
      "2019-04-23 05:43:14,038 INFO: \n",
      "epoch 8, average train epoch loss=0.7766\n",
      "\n",
      "2019-04-23 05:43:27,449 INFO: on epoch 2 by max_f1: 0.958\n",
      "train loss: 0.01621246337890625:   0%|          | 0/436 [00:00<?, ?it/s]"
     ]
    },
    {
     "name": "stdout",
     "output_type": "stream",
     "text": [
      "             precision    recall  f1-score   support\n",
      "\n",
      "     B_MISC      0.883     0.867     0.875       905\n",
      "      B_PER      0.912     0.948     0.930      1686\n",
      "      I_PER      0.942     0.974     0.958      1170\n",
      "      B_LOC      0.937     0.912     0.924      1669\n",
      "      I_ORG      0.904     0.832     0.867       734\n",
      "     I_MISC      0.809     0.804     0.806       352\n",
      "      I_LOC      0.922     0.833     0.875       257\n",
      "\n",
      "avg / total      0.914     0.908     0.911      6773\n",
      "\n"
     ]
    },
    {
     "name": "stderr",
     "output_type": "stream",
     "text": [
      "2019-04-23 05:44:49,405 INFO: \n",
      "epoch 9, average train epoch loss=0.6319\n",
      "\n",
      "2019-04-23 05:45:02,838 INFO: on epoch 2 by max_f1: 0.958\n",
      "train loss: 0.0625762939453125:   0%|          | 1/436 [00:00<01:16,  5.65it/s]"
     ]
    },
    {
     "name": "stdout",
     "output_type": "stream",
     "text": [
      "             precision    recall  f1-score   support\n",
      "\n",
      "     B_MISC      0.924     0.855     0.888       905\n",
      "      B_PER      0.946     0.916     0.931      1686\n",
      "      I_PER      0.973     0.958     0.966      1170\n",
      "      B_LOC      0.907     0.937     0.922      1669\n",
      "      I_ORG      0.874     0.869     0.872       734\n",
      "     I_MISC      0.923     0.685     0.786       352\n",
      "      I_LOC      0.909     0.860     0.884       257\n",
      "\n",
      "avg / total      0.928     0.901     0.913      6773\n",
      "\n"
     ]
    },
    {
     "name": "stderr",
     "output_type": "stream",
     "text": [
      "2019-04-23 05:46:24,015 INFO: \n",
      "epoch 10, average train epoch loss=0.6072\n",
      "\n",
      "2019-04-23 05:46:37,453 INFO: on epoch 2 by max_f1: 0.958\n",
      "  0%|          | 0/98 [00:00<?, ?it/s]"
     ]
    },
    {
     "name": "stdout",
     "output_type": "stream",
     "text": [
      "             precision    recall  f1-score   support\n",
      "\n",
      "     B_MISC      0.937     0.821     0.875       905\n",
      "      B_PER      0.926     0.957     0.941      1686\n",
      "      I_PER      0.966     0.964     0.965      1170\n",
      "      B_LOC      0.934     0.919     0.926      1669\n",
      "      I_ORG      0.825     0.857     0.841       734\n",
      "     I_MISC      0.866     0.756     0.807       352\n",
      "      I_LOC      0.912     0.844     0.877       257\n",
      "\n",
      "avg / total      0.922     0.905     0.912      6773\n",
      "\n"
     ]
    },
    {
     "name": "stderr",
     "output_type": "stream",
     "text": []
    },
    {
     "name": "stdout",
     "output_type": "stream",
     "text": [
      "64.0% params, F1 after fine-tuning: 0.877\n",
      "Retaining 51.2% params\n"
     ]
    },
    {
     "name": "stderr",
     "output_type": "stream",
     "text": [
      "2019-04-23 05:46:56,086 INFO: Resuming train... Current epoch 10.\n",
      "2019-04-23 05:48:16,734 INFO: \n",
      "epoch 11, average train epoch loss=2.6684\n",
      "\n",
      "2019-04-23 05:48:30,140 INFO: on epoch 2 by max_f1: 0.958\n",
      "  0%|          | 0/436 [00:00<?, ?it/s]"
     ]
    },
    {
     "name": "stdout",
     "output_type": "stream",
     "text": [
      "             precision    recall  f1-score   support\n",
      "\n",
      "     B_MISC      0.887     0.861     0.874       905\n",
      "      B_PER      0.887     0.923     0.905      1686\n",
      "      I_PER      0.946     0.946     0.946      1170\n",
      "      B_LOC      0.918     0.905     0.912      1669\n",
      "      I_ORG      0.801     0.842     0.821       734\n",
      "     I_MISC      0.891     0.741     0.809       352\n",
      "      I_LOC      0.856     0.833     0.844       257\n",
      "\n",
      "avg / total      0.895     0.893     0.893      6773\n",
      "\n"
     ]
    },
    {
     "name": "stderr",
     "output_type": "stream",
     "text": [
      "2019-04-23 05:49:50,813 INFO: \n",
      "epoch 12, average train epoch loss=0.99777\n",
      "\n",
      "2019-04-23 05:50:04,215 INFO: on epoch 2 by max_f1: 0.958\n",
      "train loss: 0.3296375274658203:   0%|          | 2/436 [00:00<00:42, 10.18it/s]"
     ]
    },
    {
     "name": "stdout",
     "output_type": "stream",
     "text": [
      "             precision    recall  f1-score   support\n",
      "\n",
      "     B_MISC      0.883     0.869     0.876       905\n",
      "      B_PER      0.943     0.899     0.920      1686\n",
      "      I_PER      0.959     0.950     0.955      1170\n",
      "      B_LOC      0.909     0.929     0.919      1669\n",
      "      I_ORG      0.891     0.826     0.857       734\n",
      "     I_MISC      0.873     0.744     0.804       352\n",
      "      I_LOC      0.890     0.852     0.871       257\n",
      "\n",
      "avg / total      0.918     0.893     0.905      6773\n",
      "\n"
     ]
    },
    {
     "name": "stderr",
     "output_type": "stream",
     "text": [
      "2019-04-23 05:51:26,309 INFO: \n",
      "epoch 13, average train epoch loss=0.62316\n",
      "\n",
      "2019-04-23 05:51:39,692 INFO: on epoch 2 by max_f1: 0.958\n",
      "  0%|          | 0/436 [00:00<?, ?it/s]"
     ]
    },
    {
     "name": "stdout",
     "output_type": "stream",
     "text": [
      "             precision    recall  f1-score   support\n",
      "\n",
      "     B_MISC      0.924     0.851     0.886       905\n",
      "      B_PER      0.909     0.934     0.921      1686\n",
      "      I_PER      0.960     0.960     0.960      1170\n",
      "      B_LOC      0.897     0.930     0.913      1669\n",
      "      I_ORG      0.860     0.849     0.855       734\n",
      "     I_MISC      0.922     0.739     0.820       352\n",
      "      I_LOC      0.835     0.907     0.869       257\n",
      "\n",
      "avg / total      0.909     0.906     0.907      6773\n",
      "\n"
     ]
    },
    {
     "name": "stderr",
     "output_type": "stream",
     "text": [
      "2019-04-23 05:52:59,593 INFO: \n",
      "epoch 14, average train epoch loss=0.46001\n",
      "\n",
      "2019-04-23 05:53:13,021 INFO: on epoch 2 by max_f1: 0.958\n",
      "train loss: 0.06274795532226562:   0%|          | 1/436 [00:00<01:00,  7.20it/s]"
     ]
    },
    {
     "name": "stdout",
     "output_type": "stream",
     "text": [
      "             precision    recall  f1-score   support\n",
      "\n",
      "     B_MISC      0.879     0.885     0.882       905\n",
      "      B_PER      0.907     0.925     0.916      1686\n",
      "      I_PER      0.971     0.938     0.954      1170\n",
      "      B_LOC      0.928     0.918     0.923      1669\n",
      "      I_ORG      0.911     0.779     0.840       734\n",
      "     I_MISC      0.775     0.801     0.788       352\n",
      "      I_LOC      0.923     0.837     0.878       257\n",
      "\n",
      "avg / total      0.914     0.894     0.903      6773\n",
      "\n"
     ]
    },
    {
     "name": "stderr",
     "output_type": "stream",
     "text": [
      "2019-04-23 05:54:34,795 INFO: \n",
      "epoch 15, average train epoch loss=0.29998\n",
      "\n",
      "2019-04-23 05:54:48,212 INFO: on epoch 2 by max_f1: 0.958\n",
      "  0%|          | 0/98 [00:00<?, ?it/s]"
     ]
    },
    {
     "name": "stdout",
     "output_type": "stream",
     "text": [
      "             precision    recall  f1-score   support\n",
      "\n",
      "     B_MISC      0.869     0.866     0.868       905\n",
      "      B_PER      0.921     0.936     0.928      1686\n",
      "      I_PER      0.951     0.965     0.958      1170\n",
      "      B_LOC      0.945     0.916     0.930      1669\n",
      "      I_ORG      0.874     0.851     0.863       734\n",
      "     I_MISC      0.857     0.767     0.810       352\n",
      "      I_LOC      0.951     0.825     0.883       257\n",
      "\n",
      "avg / total      0.918     0.904     0.911      6773\n",
      "\n"
     ]
    },
    {
     "name": "stderr",
     "output_type": "stream",
     "text": [
      "                                               "
     ]
    },
    {
     "name": "stdout",
     "output_type": "stream",
     "text": [
      "51.2% params, F1 after fine-tuning: 0.871\n"
     ]
    },
    {
     "name": "stderr",
     "output_type": "stream",
     "text": []
    }
   ],
   "source": [
    "# pruner = SparsityPruner(model, sens_enc)\n",
    "# scores_iterative = []\n",
    "n_ft_epochs = 5\n",
    "for i in range(1,3):\n",
    "    print('Retaining {:.1f}% params'.format(.8**(i+1)*100))\n",
    "    pruner.prune(.5)\n",
    "    learner.fit(n_ft_epochs, target_metric='f1', pruner=pruner)\n",
    "    result = validate_step(data.valid_dl, model, learner.data.id2label, learner.sup_labels)\n",
    "    f1 = parse_f1(result)\n",
    "    scores_iterative.append(f1)\n",
    "    print('{:.1f}% params, F1 after fine-tuning: {}'.format(.8**(i+1)*100,f1))"
   ]
  },
  {
   "cell_type": "markdown",
   "metadata": {},
   "source": [
    "### 3. Create Learner"
   ]
  },
  {
   "cell_type": "code",
   "execution_count": 192,
   "metadata": {},
   "outputs": [],
   "source": [
    "from modules import NerLearner"
   ]
  },
  {
   "cell_type": "code",
   "execution_count": 24,
   "metadata": {},
   "outputs": [],
   "source": [
    "# Clear existing checkpoints\n",
    "!ls /home/ec2-user/datadrive/models/conll-2003/"
   ]
  },
  {
   "cell_type": "code",
   "execution_count": 25,
   "metadata": {},
   "outputs": [],
   "source": [
    "num_epochs = 100\n",
    "learner = NerLearner(model, data,\n",
    "                     best_model_path=\"/home/ec2-user/datadrive/models/conll-2003/bilstm_attn_cased.cpt\",\n",
    "                     lr=0.001, clip=1.0, sup_labels=data.id2label[5:],\n",
    "                     t_total=num_epochs * len(data.train_dl))"
   ]
  },
  {
   "cell_type": "markdown",
   "metadata": {},
   "source": [
    "### 4. Start learning"
   ]
  },
  {
   "cell_type": "code",
   "execution_count": 26,
   "metadata": {
    "scrolled": true
   },
   "outputs": [
    {
     "name": "stderr",
     "output_type": "stream",
     "text": [
      "2019-04-11 17:14:41,374 INFO: Resuming train... Current epoch 0.\n",
      "2019-04-11 17:16:03,606 INFO: \n",
      "epoch 1, average train epoch loss=85.994\n",
      "\n",
      "2019-04-11 17:16:16,883 INFO: on epoch 0 by max_f1: 0.004\n",
      "2019-04-11 17:16:16,884 INFO: Saving new best model...\n"
     ]
    },
    {
     "name": "stdout",
     "output_type": "stream",
     "text": [
      "             precision    recall  f1-score   support\n",
      "\n",
      "     B_MISC      0.009     0.003     0.005       905\n",
      "      B_PER      0.047     0.007     0.012      1686\n",
      "      I_PER      0.000     0.000     0.000      1170\n",
      "      B_LOC      0.000     0.000     0.000      1669\n",
      "      I_ORG      0.000     0.000     0.000       734\n",
      "     I_MISC      0.000     0.000     0.000       352\n",
      "      I_LOC      0.000     0.000     0.000       257\n",
      "\n",
      "avg / total      0.013     0.002     0.004      6773\n",
      "\n"
     ]
    },
    {
     "name": "stderr",
     "output_type": "stream",
     "text": [
      "2019-04-11 17:17:39,738 INFO: \n",
      "epoch 2, average train epoch loss=34.955\n",
      "\n",
      "2019-04-11 17:17:52,887 INFO: on epoch 1 by max_f1: 0.254\n",
      "2019-04-11 17:17:52,888 INFO: Saving new best model...\n"
     ]
    },
    {
     "name": "stdout",
     "output_type": "stream",
     "text": [
      "             precision    recall  f1-score   support\n",
      "\n",
      "     B_MISC      0.212     0.104     0.139       905\n",
      "      B_PER      0.479     0.268     0.344      1686\n",
      "      I_PER      0.384     0.349     0.365      1170\n",
      "      B_LOC      0.328     0.267     0.294      1669\n",
      "      I_ORG      0.722     0.071     0.129       734\n",
      "     I_MISC      0.000     0.000     0.000       352\n",
      "      I_LOC      0.000     0.000     0.000       257\n",
      "\n",
      "avg / total      0.373     0.214     0.254      6773\n",
      "\n"
     ]
    },
    {
     "name": "stderr",
     "output_type": "stream",
     "text": [
      "2019-04-11 17:19:16,091 INFO: \n",
      "epoch 3, average train epoch loss=10.316\n",
      "\n",
      "2019-04-11 17:19:29,740 INFO: on epoch 2 by max_f1: 0.797\n",
      "2019-04-11 17:19:29,741 INFO: Saving new best model...\n"
     ]
    },
    {
     "name": "stdout",
     "output_type": "stream",
     "text": [
      "             precision    recall  f1-score   support\n",
      "\n",
      "     B_MISC      0.761     0.651     0.702       905\n",
      "      B_PER      0.940     0.935     0.938      1686\n",
      "      I_PER      0.917     0.957     0.936      1170\n",
      "      B_LOC      0.816     0.890     0.851      1669\n",
      "      I_ORG      0.706     0.632     0.667       734\n",
      "     I_MISC      0.500     0.159     0.241       352\n",
      "      I_LOC      0.514     0.276     0.359       257\n",
      "\n",
      "avg / total      0.817     0.792     0.797      6773\n",
      "\n"
     ]
    },
    {
     "name": "stderr",
     "output_type": "stream",
     "text": [
      "2019-04-11 17:20:54,430 INFO: \n",
      "epoch 4, average train epoch loss=4.2734\n",
      "\n",
      "2019-04-11 17:21:07,556 INFO: on epoch 3 by max_f1: 0.886\n",
      "2019-04-11 17:21:07,557 INFO: Saving new best model...\n"
     ]
    },
    {
     "name": "stdout",
     "output_type": "stream",
     "text": [
      "             precision    recall  f1-score   support\n",
      "\n",
      "     B_MISC      0.815     0.767     0.790       905\n",
      "      B_PER      0.969     0.954     0.961      1686\n",
      "      I_PER      0.959     0.973     0.966      1170\n",
      "      B_LOC      0.920     0.906     0.913      1669\n",
      "      I_ORG      0.814     0.851     0.832       734\n",
      "     I_MISC      0.763     0.511     0.612       352\n",
      "      I_LOC      0.767     0.665     0.712       257\n",
      "\n",
      "avg / total      0.899     0.875     0.886      6773\n",
      "\n"
     ]
    },
    {
     "name": "stderr",
     "output_type": "stream",
     "text": [
      "2019-04-11 17:22:32,456 INFO: \n",
      "epoch 5, average train epoch loss=2.7849\n",
      "\n",
      "2019-04-11 17:22:46,109 INFO: on epoch 4 by max_f1: 0.917\n",
      "2019-04-11 17:22:46,110 INFO: Saving new best model...\n"
     ]
    },
    {
     "name": "stdout",
     "output_type": "stream",
     "text": [
      "             precision    recall  f1-score   support\n",
      "\n",
      "     B_MISC      0.828     0.827     0.827       905\n",
      "      B_PER      0.966     0.976     0.971      1686\n",
      "      I_PER      0.979     0.975     0.977      1170\n",
      "      B_LOC      0.951     0.905     0.927      1669\n",
      "      I_ORG      0.920     0.864     0.891       734\n",
      "     I_MISC      0.793     0.727     0.759       352\n",
      "      I_LOC      0.814     0.868     0.840       257\n",
      "\n",
      "avg / total      0.926     0.909     0.917      6773\n",
      "\n"
     ]
    },
    {
     "name": "stderr",
     "output_type": "stream",
     "text": [
      "2019-04-11 17:24:10,077 INFO: \n",
      "epoch 6, average train epoch loss=1.9921\n",
      "\n",
      "2019-04-11 17:24:23,217 INFO: on epoch 5 by max_f1: 0.928\n",
      "2019-04-11 17:24:23,218 INFO: Saving new best model...\n"
     ]
    },
    {
     "name": "stdout",
     "output_type": "stream",
     "text": [
      "             precision    recall  f1-score   support\n",
      "\n",
      "     B_MISC      0.835     0.886     0.860       905\n",
      "      B_PER      0.972     0.973     0.972      1686\n",
      "      I_PER      0.984     0.973     0.979      1170\n",
      "      B_LOC      0.929     0.946     0.937      1669\n",
      "      I_ORG      0.937     0.871     0.903       734\n",
      "     I_MISC      0.855     0.719     0.781       352\n",
      "      I_LOC      0.844     0.887     0.865       257\n",
      "\n",
      "avg / total      0.930     0.927     0.928      6773\n",
      "\n"
     ]
    },
    {
     "name": "stderr",
     "output_type": "stream",
     "text": [
      "2019-04-11 17:25:47,359 INFO: \n",
      "epoch 7, average train epoch loss=1.5752\n",
      "\n",
      "2019-04-11 17:26:01,021 INFO: on epoch 6 by max_f1: 0.937\n",
      "2019-04-11 17:26:01,022 INFO: Saving new best model...\n"
     ]
    },
    {
     "name": "stdout",
     "output_type": "stream",
     "text": [
      "             precision    recall  f1-score   support\n",
      "\n",
      "     B_MISC      0.906     0.873     0.889       905\n",
      "      B_PER      0.953     0.976     0.964      1686\n",
      "      I_PER      0.984     0.977     0.981      1170\n",
      "      B_LOC      0.960     0.941     0.950      1669\n",
      "      I_ORG      0.939     0.875     0.906       734\n",
      "     I_MISC      0.840     0.804     0.821       352\n",
      "      I_LOC      0.879     0.907     0.893       257\n",
      "\n",
      "avg / total      0.944     0.931     0.937      6773\n",
      "\n"
     ]
    },
    {
     "name": "stderr",
     "output_type": "stream",
     "text": [
      "2019-04-11 17:27:26,278 INFO: \n",
      "epoch 8, average train epoch loss=1.219\n",
      "\n",
      "2019-04-11 17:27:39,700 INFO: on epoch 7 by max_f1: 0.945\n",
      "2019-04-11 17:27:39,701 INFO: Saving new best model...\n"
     ]
    },
    {
     "name": "stdout",
     "output_type": "stream",
     "text": [
      "             precision    recall  f1-score   support\n",
      "\n",
      "     B_MISC      0.910     0.880     0.894       905\n",
      "      B_PER      0.980     0.964     0.972      1686\n",
      "      I_PER      0.984     0.981     0.982      1170\n",
      "      B_LOC      0.953     0.952     0.952      1669\n",
      "      I_ORG      0.957     0.910     0.933       734\n",
      "     I_MISC      0.895     0.773     0.829       352\n",
      "      I_LOC      0.905     0.926     0.915       257\n",
      "\n",
      "avg / total      0.955     0.935     0.945      6773\n",
      "\n"
     ]
    },
    {
     "name": "stderr",
     "output_type": "stream",
     "text": [
      "2019-04-11 17:29:02,356 INFO: \n",
      "epoch 9, average train epoch loss=0.99128\n",
      "\n",
      "2019-04-11 17:29:15,502 INFO: on epoch 7 by max_f1: 0.945\n",
      "  0%|          | 0/436 [00:00<?, ?it/s]"
     ]
    },
    {
     "name": "stdout",
     "output_type": "stream",
     "text": [
      "             precision    recall  f1-score   support\n",
      "\n",
      "     B_MISC      0.864     0.919     0.891       905\n",
      "      B_PER      0.959     0.980     0.970      1686\n",
      "      I_PER      0.985     0.979     0.982      1170\n",
      "      B_LOC      0.957     0.949     0.953      1669\n",
      "      I_ORG      0.934     0.905     0.919       734\n",
      "     I_MISC      0.815     0.841     0.828       352\n",
      "      I_LOC      0.915     0.879     0.897       257\n",
      "\n",
      "avg / total      0.938     0.945     0.942      6773\n",
      "\n"
     ]
    },
    {
     "name": "stderr",
     "output_type": "stream",
     "text": [
      "2019-04-11 17:30:38,762 INFO: \n",
      "epoch 10, average train epoch loss=0.89813\n",
      "\n",
      "2019-04-11 17:30:51,936 INFO: on epoch 7 by max_f1: 0.945\n",
      "  0%|          | 0/436 [00:00<?, ?it/s]"
     ]
    },
    {
     "name": "stdout",
     "output_type": "stream",
     "text": [
      "             precision    recall  f1-score   support\n",
      "\n",
      "     B_MISC      0.922     0.866     0.893       905\n",
      "      B_PER      0.959     0.975     0.967      1686\n",
      "      I_PER      0.987     0.976     0.982      1170\n",
      "      B_LOC      0.952     0.942     0.947      1669\n",
      "      I_ORG      0.936     0.921     0.929       734\n",
      "     I_MISC      0.873     0.761     0.813       352\n",
      "      I_LOC      0.928     0.907     0.917       257\n",
      "\n",
      "avg / total      0.949     0.933     0.941      6773\n",
      "\n"
     ]
    },
    {
     "name": "stderr",
     "output_type": "stream",
     "text": [
      "2019-04-11 17:32:11,320 INFO: \n",
      "epoch 11, average train epoch loss=0.64953\n",
      "\n",
      "2019-04-11 17:32:24,723 INFO: on epoch 7 by max_f1: 0.945\n",
      "train loss: 0.1582646369934082:   0%|          | 1/436 [00:00<01:11,  6.12it/s]"
     ]
    },
    {
     "name": "stdout",
     "output_type": "stream",
     "text": [
      "             precision    recall  f1-score   support\n",
      "\n",
      "     B_MISC      0.927     0.874     0.900       905\n",
      "      B_PER      0.975     0.967     0.971      1686\n",
      "      I_PER      0.987     0.979     0.983      1170\n",
      "      B_LOC      0.948     0.956     0.952      1669\n",
      "      I_ORG      0.914     0.955     0.934       734\n",
      "     I_MISC      0.851     0.781     0.815       352\n",
      "      I_LOC      0.907     0.911     0.909       257\n",
      "\n",
      "avg / total      0.949     0.941     0.944      6773\n",
      "\n"
     ]
    },
    {
     "name": "stderr",
     "output_type": "stream",
     "text": [
      "2019-04-11 17:33:44,656 INFO: \n",
      "epoch 12, average train epoch loss=0.44599\n",
      "\n",
      "2019-04-11 17:33:57,782 INFO: on epoch 11 by max_f1: 0.948\n",
      "2019-04-11 17:33:57,783 INFO: Saving new best model...\n"
     ]
    },
    {
     "name": "stdout",
     "output_type": "stream",
     "text": [
      "             precision    recall  f1-score   support\n",
      "\n",
      "     B_MISC      0.899     0.903     0.901       905\n",
      "      B_PER      0.973     0.976     0.975      1686\n",
      "      I_PER      0.986     0.985     0.985      1170\n",
      "      B_LOC      0.967     0.947     0.957      1669\n",
      "      I_ORG      0.947     0.924     0.935       734\n",
      "     I_MISC      0.833     0.824     0.829       352\n",
      "      I_LOC      0.924     0.899     0.911       257\n",
      "\n",
      "avg / total      0.952     0.944     0.948      6773\n",
      "\n"
     ]
    },
    {
     "name": "stderr",
     "output_type": "stream",
     "text": [
      "2019-04-11 17:35:23,239 INFO: \n",
      "epoch 13, average train epoch loss=0.37979\n",
      "\n",
      "2019-04-11 17:35:36,512 INFO: on epoch 11 by max_f1: 0.948\n",
      "train loss: 0.0262603759765625:   0%|          | 1/436 [00:00<00:43,  9.95it/s]"
     ]
    },
    {
     "name": "stdout",
     "output_type": "stream",
     "text": [
      "             precision    recall  f1-score   support\n",
      "\n",
      "     B_MISC      0.902     0.895     0.899       905\n",
      "      B_PER      0.952     0.982     0.966      1686\n",
      "      I_PER      0.985     0.980     0.982      1170\n",
      "      B_LOC      0.958     0.952     0.955      1669\n",
      "      I_ORG      0.958     0.910     0.934       734\n",
      "     I_MISC      0.816     0.847     0.831       352\n",
      "      I_LOC      0.910     0.907     0.908       257\n",
      "\n",
      "avg / total      0.944     0.945     0.944      6773\n",
      "\n"
     ]
    },
    {
     "name": "stderr",
     "output_type": "stream",
     "text": [
      "2019-04-11 17:36:55,517 INFO: \n",
      "epoch 14, average train epoch loss=0.29865\n",
      "\n",
      "2019-04-11 17:37:08,715 INFO: on epoch 13 by max_f1: 0.95\n",
      "2019-04-11 17:37:08,716 INFO: Saving new best model...\n"
     ]
    },
    {
     "name": "stdout",
     "output_type": "stream",
     "text": [
      "             precision    recall  f1-score   support\n",
      "\n",
      "     B_MISC      0.885     0.922     0.903       905\n",
      "      B_PER      0.969     0.974     0.972      1686\n",
      "      I_PER      0.993     0.984     0.988      1170\n",
      "      B_LOC      0.970     0.944     0.957      1669\n",
      "      I_ORG      0.956     0.926     0.941       734\n",
      "     I_MISC      0.868     0.821     0.844       352\n",
      "      I_LOC      0.901     0.918     0.909       257\n",
      "\n",
      "avg / total      0.953     0.946     0.950      6773\n",
      "\n"
     ]
    },
    {
     "name": "stderr",
     "output_type": "stream",
     "text": [
      "2019-04-11 17:38:31,801 INFO: \n",
      "epoch 15, average train epoch loss=0.28335\n",
      "\n",
      "2019-04-11 17:38:44,926 INFO: on epoch 13 by max_f1: 0.95\n",
      "train loss: 0.007056236267089844:   0%|          | 1/436 [00:00<00:47,  9.19it/s]"
     ]
    },
    {
     "name": "stdout",
     "output_type": "stream",
     "text": [
      "             precision    recall  f1-score   support\n",
      "\n",
      "     B_MISC      0.931     0.878     0.904       905\n",
      "      B_PER      0.975     0.967     0.971      1686\n",
      "      I_PER      0.994     0.972     0.983      1170\n",
      "      B_LOC      0.944     0.959     0.952      1669\n",
      "      I_ORG      0.925     0.936     0.930       734\n",
      "     I_MISC      0.854     0.832     0.843       352\n",
      "      I_LOC      0.951     0.907     0.928       257\n",
      "\n",
      "avg / total      0.952     0.941     0.947      6773\n",
      "\n"
     ]
    },
    {
     "name": "stderr",
     "output_type": "stream",
     "text": [
      "2019-04-11 17:40:04,814 INFO: \n",
      "epoch 16, average train epoch loss=0.23126\n",
      "\n",
      "2019-04-11 17:40:17,948 INFO: on epoch 13 by max_f1: 0.95\n",
      "  0%|          | 0/436 [00:00<?, ?it/s]"
     ]
    },
    {
     "name": "stdout",
     "output_type": "stream",
     "text": [
      "             precision    recall  f1-score   support\n",
      "\n",
      "     B_MISC      0.922     0.864     0.892       905\n",
      "      B_PER      0.967     0.969     0.968      1686\n",
      "      I_PER      0.982     0.985     0.983      1170\n",
      "      B_LOC      0.939     0.969     0.954      1669\n",
      "      I_ORG      0.949     0.931     0.939       734\n",
      "     I_MISC      0.825     0.815     0.820       352\n",
      "      I_LOC      0.914     0.914     0.914       257\n",
      "\n",
      "avg / total      0.945     0.943     0.944      6773\n",
      "\n"
     ]
    },
    {
     "name": "stderr",
     "output_type": "stream",
     "text": [
      "2019-04-11 17:41:37,870 INFO: \n",
      "epoch 17, average train epoch loss=0.20831\n",
      "\n",
      "2019-04-11 17:41:51,308 INFO: on epoch 13 by max_f1: 0.95\n",
      "train loss: 0.06786823272705078:   0%|          | 1/436 [00:00<01:25,  5.10it/s]"
     ]
    },
    {
     "name": "stdout",
     "output_type": "stream",
     "text": [
      "             precision    recall  f1-score   support\n",
      "\n",
      "     B_MISC      0.904     0.905     0.904       905\n",
      "      B_PER      0.978     0.966     0.972      1686\n",
      "      I_PER      0.986     0.981     0.984      1170\n",
      "      B_LOC      0.965     0.948     0.956      1669\n",
      "      I_ORG      0.920     0.956     0.938       734\n",
      "     I_MISC      0.876     0.821     0.848       352\n",
      "      I_LOC      0.947     0.899     0.922       257\n",
      "\n",
      "avg / total      0.954     0.945     0.949      6773\n",
      "\n"
     ]
    },
    {
     "name": "stderr",
     "output_type": "stream",
     "text": [
      "2019-04-11 17:43:14,143 INFO: \n",
      "epoch 18, average train epoch loss=0.1497\n",
      "\n",
      "2019-04-11 17:43:27,431 INFO: on epoch 13 by max_f1: 0.95\n",
      "  0%|          | 0/436 [00:00<?, ?it/s]"
     ]
    },
    {
     "name": "stdout",
     "output_type": "stream",
     "text": [
      "             precision    recall  f1-score   support\n",
      "\n",
      "     B_MISC      0.921     0.899     0.910       905\n",
      "      B_PER      0.969     0.972     0.970      1686\n",
      "      I_PER      0.990     0.981     0.985      1170\n",
      "      B_LOC      0.953     0.962     0.957      1669\n",
      "      I_ORG      0.943     0.931     0.937       734\n",
      "     I_MISC      0.888     0.812     0.849       352\n",
      "      I_LOC      0.933     0.914     0.923       257\n",
      "\n",
      "avg / total      0.954     0.946     0.950      6773\n",
      "\n"
     ]
    },
    {
     "name": "stderr",
     "output_type": "stream",
     "text": [
      "2019-04-11 17:44:48,415 INFO: \n",
      "epoch 19, average train epoch loss=0.14791\n",
      "\n",
      "2019-04-11 17:45:01,617 INFO: on epoch 13 by max_f1: 0.95\n",
      "train loss: 0.15214157104492188:   0%|          | 1/436 [00:00<01:05,  6.65it/s]"
     ]
    },
    {
     "name": "stdout",
     "output_type": "stream",
     "text": [
      "             precision    recall  f1-score   support\n",
      "\n",
      "     B_MISC      0.918     0.881     0.899       905\n",
      "      B_PER      0.961     0.979     0.970      1686\n",
      "      I_PER      0.985     0.986     0.985      1170\n",
      "      B_LOC      0.955     0.962     0.958      1669\n",
      "      I_ORG      0.941     0.932     0.936       734\n",
      "     I_MISC      0.863     0.821     0.841       352\n",
      "      I_LOC      0.935     0.895     0.915       257\n",
      "\n",
      "avg / total      0.950     0.946     0.948      6773\n",
      "\n"
     ]
    },
    {
     "name": "stderr",
     "output_type": "stream",
     "text": [
      "2019-04-11 17:46:21,857 INFO: \n",
      "epoch 20, average train epoch loss=0.13318\n",
      "\n",
      "2019-04-11 17:46:35,028 INFO: on epoch 19 by max_f1: 0.951\n",
      "2019-04-11 17:46:35,028 INFO: Saving new best model...\n"
     ]
    },
    {
     "name": "stdout",
     "output_type": "stream",
     "text": [
      "             precision    recall  f1-score   support\n",
      "\n",
      "     B_MISC      0.904     0.905     0.904       905\n",
      "      B_PER      0.966     0.982     0.974      1686\n",
      "      I_PER      0.986     0.985     0.985      1170\n",
      "      B_LOC      0.965     0.948     0.956      1669\n",
      "      I_ORG      0.945     0.941     0.943       734\n",
      "     I_MISC      0.891     0.838     0.864       352\n",
      "      I_LOC      0.932     0.911     0.921       257\n",
      "\n",
      "avg / total      0.954     0.949     0.951      6773\n",
      "\n"
     ]
    },
    {
     "name": "stderr",
     "output_type": "stream",
     "text": [
      "2019-04-11 17:47:58,653 INFO: \n",
      "epoch 21, average train epoch loss=0.12725\n",
      "\n",
      "2019-04-11 17:48:11,848 INFO: on epoch 19 by max_f1: 0.951\n",
      "train loss: 0.0006775856018066406:   0%|          | 0/436 [00:00<?, ?it/s]"
     ]
    },
    {
     "name": "stdout",
     "output_type": "stream",
     "text": [
      "             precision    recall  f1-score   support\n",
      "\n",
      "     B_MISC      0.917     0.896     0.907       905\n",
      "      B_PER      0.982     0.966     0.974      1686\n",
      "      I_PER      0.991     0.975     0.983      1170\n",
      "      B_LOC      0.960     0.947     0.953      1669\n",
      "      I_ORG      0.945     0.936     0.940       734\n",
      "     I_MISC      0.856     0.847     0.851       352\n",
      "      I_LOC      0.958     0.895     0.926       257\n",
      "\n",
      "avg / total      0.958     0.941     0.950      6773\n",
      "\n"
     ]
    },
    {
     "name": "stderr",
     "output_type": "stream",
     "text": [
      "2019-04-11 17:49:31,012 INFO: \n",
      "epoch 22, average train epoch loss=0.091524\n",
      "\n",
      "2019-04-11 17:49:44,166 INFO: on epoch 21 by max_f1: 0.953\n",
      "2019-04-11 17:49:44,167 INFO: Saving new best model...\n"
     ]
    },
    {
     "name": "stdout",
     "output_type": "stream",
     "text": [
      "             precision    recall  f1-score   support\n",
      "\n",
      "     B_MISC      0.916     0.901     0.908       905\n",
      "      B_PER      0.971     0.976     0.973      1686\n",
      "      I_PER      0.985     0.986     0.986      1170\n",
      "      B_LOC      0.959     0.962     0.961      1669\n",
      "      I_ORG      0.934     0.947     0.940       734\n",
      "     I_MISC      0.888     0.832     0.859       352\n",
      "      I_LOC      0.955     0.911     0.932       257\n",
      "\n",
      "avg / total      0.954     0.951     0.953      6773\n",
      "\n"
     ]
    },
    {
     "name": "stderr",
     "output_type": "stream",
     "text": [
      "2019-04-11 17:51:07,953 INFO: \n",
      "epoch 23, average train epoch loss=0.10112\n",
      "\n",
      "2019-04-11 17:51:21,221 INFO: on epoch 22 by max_f1: 0.954\n",
      "2019-04-11 17:51:21,222 INFO: Saving new best model...\n"
     ]
    },
    {
     "name": "stdout",
     "output_type": "stream",
     "text": [
      "             precision    recall  f1-score   support\n",
      "\n",
      "     B_MISC      0.914     0.912     0.913       905\n",
      "      B_PER      0.970     0.974     0.972      1686\n",
      "      I_PER      0.991     0.985     0.988      1170\n",
      "      B_LOC      0.967     0.959     0.963      1669\n",
      "      I_ORG      0.946     0.939     0.943       734\n",
      "     I_MISC      0.870     0.855     0.862       352\n",
      "      I_LOC      0.959     0.914     0.936       257\n",
      "\n",
      "avg / total      0.957     0.952     0.954      6773\n",
      "\n"
     ]
    },
    {
     "name": "stderr",
     "output_type": "stream",
     "text": [
      "2019-04-11 17:52:44,698 INFO: \n",
      "epoch 24, average train epoch loss=0.093198\n",
      "\n",
      "2019-04-11 17:52:57,847 INFO: on epoch 22 by max_f1: 0.954\n",
      "  0%|          | 0/436 [00:00<?, ?it/s]"
     ]
    },
    {
     "name": "stdout",
     "output_type": "stream",
     "text": [
      "             precision    recall  f1-score   support\n",
      "\n",
      "     B_MISC      0.920     0.906     0.913       905\n",
      "      B_PER      0.959     0.976     0.967      1686\n",
      "      I_PER      0.991     0.983     0.987      1170\n",
      "      B_LOC      0.954     0.962     0.958      1669\n",
      "      I_ORG      0.957     0.939     0.948       734\n",
      "     I_MISC      0.873     0.841     0.857       352\n",
      "      I_LOC      0.951     0.907     0.928       257\n",
      "\n",
      "avg / total      0.953     0.951     0.952      6773\n",
      "\n"
     ]
    },
    {
     "name": "stderr",
     "output_type": "stream",
     "text": [
      "2019-04-11 17:54:19,338 INFO: \n",
      "epoch 25, average train epoch loss=0.0956\n",
      "\n",
      "2019-04-11 17:54:32,472 INFO: on epoch 22 by max_f1: 0.954\n",
      "  0%|          | 0/436 [00:00<?, ?it/s]"
     ]
    },
    {
     "name": "stdout",
     "output_type": "stream",
     "text": [
      "             precision    recall  f1-score   support\n",
      "\n",
      "     B_MISC      0.923     0.905     0.914       905\n",
      "      B_PER      0.963     0.976     0.970      1686\n",
      "      I_PER      0.991     0.974     0.983      1170\n",
      "      B_LOC      0.969     0.954     0.961      1669\n",
      "      I_ORG      0.963     0.917     0.939       734\n",
      "     I_MISC      0.860     0.858     0.859       352\n",
      "      I_LOC      0.955     0.914     0.934       257\n",
      "\n",
      "avg / total      0.958     0.946     0.952      6773\n",
      "\n"
     ]
    },
    {
     "name": "stderr",
     "output_type": "stream",
     "text": [
      "2019-04-11 17:55:53,492 INFO: \n",
      "epoch 26, average train epoch loss=0.072702\n",
      "\n",
      "2019-04-11 17:56:06,698 INFO: on epoch 22 by max_f1: 0.954\n",
      "train loss: 0.00014019012451171875:   0%|          | 1/436 [00:00<00:47,  9.08it/s]"
     ]
    },
    {
     "name": "stdout",
     "output_type": "stream",
     "text": [
      "             precision    recall  f1-score   support\n",
      "\n",
      "     B_MISC      0.891     0.914     0.902       905\n",
      "      B_PER      0.977     0.970     0.974      1686\n",
      "      I_PER      0.990     0.977     0.984      1170\n",
      "      B_LOC      0.961     0.957     0.959      1669\n",
      "      I_ORG      0.955     0.932     0.943       734\n",
      "     I_MISC      0.837     0.861     0.849       352\n",
      "      I_LOC      0.948     0.914     0.931       257\n",
      "\n",
      "avg / total      0.953     0.949     0.951      6773\n",
      "\n"
     ]
    },
    {
     "name": "stderr",
     "output_type": "stream",
     "text": [
      "2019-04-11 17:57:25,286 INFO: \n",
      "epoch 27, average train epoch loss=0.073884\n",
      "\n",
      "2019-04-11 17:57:38,471 INFO: on epoch 22 by max_f1: 0.954\n",
      "train loss: 0.0002498626708984375:   0%|          | 0/436 [00:00<?, ?it/s]"
     ]
    },
    {
     "name": "stdout",
     "output_type": "stream",
     "text": [
      "             precision    recall  f1-score   support\n",
      "\n",
      "     B_MISC      0.907     0.913     0.910       905\n",
      "      B_PER      0.985     0.974     0.979      1686\n",
      "      I_PER      0.995     0.981     0.988      1170\n",
      "      B_LOC      0.967     0.959     0.963      1669\n",
      "      I_ORG      0.947     0.928     0.937       734\n",
      "     I_MISC      0.854     0.849     0.852       352\n",
      "      I_LOC      0.933     0.922     0.928       257\n",
      "\n",
      "avg / total      0.959     0.950     0.954      6773\n",
      "\n"
     ]
    },
    {
     "name": "stderr",
     "output_type": "stream",
     "text": [
      "2019-04-11 17:59:00,417 INFO: \n",
      "epoch 28, average train epoch loss=0.064472\n",
      "\n",
      "2019-04-11 17:59:13,664 INFO: on epoch 22 by max_f1: 0.954\n",
      "train loss: 0.017823219299316406:   0%|          | 1/436 [00:00<00:46,  9.35it/s]"
     ]
    },
    {
     "name": "stdout",
     "output_type": "stream",
     "text": [
      "             precision    recall  f1-score   support\n",
      "\n",
      "     B_MISC      0.937     0.885     0.910       905\n",
      "      B_PER      0.965     0.979     0.972      1686\n",
      "      I_PER      0.985     0.987     0.986      1170\n",
      "      B_LOC      0.962     0.958     0.960      1669\n",
      "      I_ORG      0.938     0.933     0.936       734\n",
      "     I_MISC      0.904     0.798     0.848       352\n",
      "      I_LOC      0.918     0.914     0.916       257\n",
      "\n",
      "avg / total      0.956     0.946     0.951      6773\n",
      "\n"
     ]
    },
    {
     "name": "stderr",
     "output_type": "stream",
     "text": [
      "2019-04-11 18:00:34,858 INFO: \n",
      "epoch 29, average train epoch loss=0.066459\n",
      "\n",
      "2019-04-11 18:00:48,038 INFO: on epoch 22 by max_f1: 0.954\n",
      "train loss: 0.00014257431030273438:   0%|          | 0/436 [00:00<?, ?it/s]"
     ]
    },
    {
     "name": "stdout",
     "output_type": "stream",
     "text": [
      "             precision    recall  f1-score   support\n",
      "\n",
      "     B_MISC      0.902     0.916     0.909       905\n",
      "      B_PER      0.965     0.982     0.974      1686\n",
      "      I_PER      0.986     0.990     0.988      1170\n",
      "      B_LOC      0.937     0.975     0.956      1669\n",
      "      I_ORG      0.954     0.924     0.938       734\n",
      "     I_MISC      0.856     0.844     0.850       352\n",
      "      I_LOC      0.927     0.934     0.930       257\n",
      "\n",
      "avg / total      0.945     0.958     0.951      6773\n",
      "\n"
     ]
    },
    {
     "name": "stderr",
     "output_type": "stream",
     "text": [
      "2019-04-11 18:02:08,608 INFO: \n",
      "epoch 30, average train epoch loss=0.053558\n",
      "\n",
      "2019-04-11 18:02:22,180 INFO: on epoch 22 by max_f1: 0.954\n",
      "train loss: 0.00015926361083984375:   0%|          | 1/436 [00:00<01:11,  6.05it/s]"
     ]
    },
    {
     "name": "stdout",
     "output_type": "stream",
     "text": [
      "             precision    recall  f1-score   support\n",
      "\n",
      "     B_MISC      0.916     0.903     0.909       905\n",
      "      B_PER      0.964     0.979     0.972      1686\n",
      "      I_PER      0.986     0.985     0.986      1170\n",
      "      B_LOC      0.969     0.950     0.959      1669\n",
      "      I_ORG      0.940     0.936     0.938       734\n",
      "     I_MISC      0.870     0.818     0.843       352\n",
      "      I_LOC      0.936     0.914     0.925       257\n",
      "\n",
      "avg / total      0.954     0.947     0.951      6773\n",
      "\n"
     ]
    },
    {
     "name": "stderr",
     "output_type": "stream",
     "text": [
      "2019-04-11 18:03:44,207 INFO: \n",
      "epoch 31, average train epoch loss=0.049797\n",
      "\n",
      "2019-04-11 18:03:57,433 INFO: on epoch 30 by max_f1: 0.955\n",
      "2019-04-11 18:03:57,434 INFO: Saving new best model...\n"
     ]
    },
    {
     "name": "stdout",
     "output_type": "stream",
     "text": [
      "             precision    recall  f1-score   support\n",
      "\n",
      "     B_MISC      0.930     0.904     0.917       905\n",
      "      B_PER      0.973     0.977     0.975      1686\n",
      "      I_PER      0.989     0.983     0.986      1170\n",
      "      B_LOC      0.965     0.962     0.964      1669\n",
      "      I_ORG      0.940     0.937     0.939       734\n",
      "     I_MISC      0.911     0.818     0.862       352\n",
      "      I_LOC      0.951     0.914     0.933       257\n",
      "\n",
      "avg / total      0.960     0.950     0.955      6773\n",
      "\n"
     ]
    },
    {
     "name": "stderr",
     "output_type": "stream",
     "text": [
      "2019-04-11 18:05:19,150 INFO: \n",
      "epoch 32, average train epoch loss=0.044037\n",
      "\n",
      "2019-04-11 18:05:32,387 INFO: on epoch 30 by max_f1: 0.955\n",
      "  0%|          | 0/436 [00:00<?, ?it/s]"
     ]
    },
    {
     "name": "stdout",
     "output_type": "stream",
     "text": [
      "             precision    recall  f1-score   support\n",
      "\n",
      "     B_MISC      0.935     0.895     0.915       905\n",
      "      B_PER      0.959     0.980     0.969      1686\n",
      "      I_PER      0.986     0.990     0.988      1170\n",
      "      B_LOC      0.965     0.960     0.962      1669\n",
      "      I_ORG      0.954     0.936     0.945       734\n",
      "     I_MISC      0.887     0.824     0.854       352\n",
      "      I_LOC      0.963     0.922     0.942       257\n",
      "\n",
      "avg / total      0.958     0.950     0.954      6773\n",
      "\n"
     ]
    },
    {
     "name": "stderr",
     "output_type": "stream",
     "text": [
      "2019-04-11 18:06:52,667 INFO: \n",
      "epoch 33, average train epoch loss=0.037188\n",
      "\n",
      "2019-04-11 18:07:06,085 INFO: on epoch 32 by max_f1: 0.957\n",
      "2019-04-11 18:07:06,085 INFO: Saving new best model...\n"
     ]
    },
    {
     "name": "stdout",
     "output_type": "stream",
     "text": [
      "             precision    recall  f1-score   support\n",
      "\n",
      "     B_MISC      0.926     0.915     0.921       905\n",
      "      B_PER      0.965     0.984     0.974      1686\n",
      "      I_PER      0.986     0.991     0.988      1170\n",
      "      B_LOC      0.970     0.962     0.966      1669\n",
      "      I_ORG      0.956     0.928     0.942       734\n",
      "     I_MISC      0.885     0.872     0.878       352\n",
      "      I_LOC      0.944     0.922     0.933       257\n",
      "\n",
      "avg / total      0.959     0.956     0.957      6773\n",
      "\n"
     ]
    },
    {
     "name": "stderr",
     "output_type": "stream",
     "text": [
      "2019-04-11 18:08:30,753 INFO: \n",
      "epoch 34, average train epoch loss=0.057352\n",
      "\n",
      "2019-04-11 18:08:43,867 INFO: on epoch 32 by max_f1: 0.957\n",
      "train loss: 2.86102294921875e-06:   0%|          | 1/436 [00:00<00:54,  7.95it/s]"
     ]
    },
    {
     "name": "stdout",
     "output_type": "stream",
     "text": [
      "             precision    recall  f1-score   support\n",
      "\n",
      "     B_MISC      0.929     0.902     0.915       905\n",
      "      B_PER      0.971     0.977     0.974      1686\n",
      "      I_PER      0.990     0.985     0.987      1170\n",
      "      B_LOC      0.963     0.963     0.963      1669\n",
      "      I_ORG      0.941     0.943     0.942       734\n",
      "     I_MISC      0.887     0.844     0.865       352\n",
      "      I_LOC      0.955     0.914     0.934       257\n",
      "\n",
      "avg / total      0.959     0.952     0.955      6773\n",
      "\n"
     ]
    },
    {
     "name": "stderr",
     "output_type": "stream",
     "text": [
      "2019-04-11 18:10:06,655 INFO: \n",
      "epoch 35, average train epoch loss=0.037303\n",
      "\n",
      "2019-04-11 18:10:20,312 INFO: on epoch 32 by max_f1: 0.957\n",
      "train loss: 5.817413330078125e-05:   0%|          | 1/436 [00:00<01:00,  7.18it/s]"
     ]
    },
    {
     "name": "stdout",
     "output_type": "stream",
     "text": [
      "             precision    recall  f1-score   support\n",
      "\n",
      "     B_MISC      0.918     0.906     0.912       905\n",
      "      B_PER      0.983     0.970     0.976      1686\n",
      "      I_PER      0.994     0.985     0.989      1170\n",
      "      B_LOC      0.967     0.952     0.959      1669\n",
      "      I_ORG      0.936     0.936     0.936       734\n",
      "     I_MISC      0.894     0.835     0.863       352\n",
      "      I_LOC      0.955     0.899     0.926       257\n",
      "\n",
      "avg / total      0.961     0.946     0.954      6773\n",
      "\n"
     ]
    },
    {
     "name": "stderr",
     "output_type": "stream",
     "text": [
      "2019-04-11 18:11:40,142 INFO: \n",
      "epoch 36, average train epoch loss=0.035259\n",
      "\n",
      "2019-04-11 18:11:53,295 INFO: on epoch 32 by max_f1: 0.957\n",
      "  0%|          | 0/436 [00:00<?, ?it/s]"
     ]
    },
    {
     "name": "stdout",
     "output_type": "stream",
     "text": [
      "             precision    recall  f1-score   support\n",
      "\n",
      "     B_MISC      0.921     0.909     0.915       905\n",
      "      B_PER      0.976     0.977     0.977      1686\n",
      "      I_PER      0.989     0.987     0.988      1170\n",
      "      B_LOC      0.959     0.963     0.961      1669\n",
      "      I_ORG      0.957     0.917     0.937       734\n",
      "     I_MISC      0.892     0.841     0.865       352\n",
      "      I_LOC      0.905     0.930     0.917       257\n",
      "\n",
      "avg / total      0.957     0.951     0.954      6773\n",
      "\n"
     ]
    },
    {
     "name": "stderr",
     "output_type": "stream",
     "text": [
      "2019-04-11 18:13:13,402 INFO: \n",
      "epoch 37, average train epoch loss=0.038973\n",
      "\n",
      "2019-04-11 18:13:26,623 INFO: on epoch 32 by max_f1: 0.957\n",
      "train loss: 1.239776611328125e-05:   0%|          | 0/436 [00:00<?, ?it/s]"
     ]
    },
    {
     "name": "stdout",
     "output_type": "stream",
     "text": [
      "             precision    recall  f1-score   support\n",
      "\n",
      "     B_MISC      0.932     0.902     0.916       905\n",
      "      B_PER      0.969     0.975     0.972      1686\n",
      "      I_PER      0.992     0.982     0.987      1170\n",
      "      B_LOC      0.962     0.962     0.962      1669\n",
      "      I_ORG      0.930     0.943     0.936       734\n",
      "     I_MISC      0.879     0.824     0.850       352\n",
      "      I_LOC      0.940     0.922     0.931       257\n",
      "\n",
      "avg / total      0.956     0.950     0.953      6773\n",
      "\n"
     ]
    },
    {
     "name": "stderr",
     "output_type": "stream",
     "text": [
      "2019-04-11 18:14:46,083 INFO: \n",
      "epoch 38, average train epoch loss=0.033369\n",
      "\n",
      "2019-04-11 18:14:59,252 INFO: on epoch 32 by max_f1: 0.957\n",
      "train loss: 0.0004487037658691406:   0%|          | 0/436 [00:00<?, ?it/s]"
     ]
    },
    {
     "name": "stdout",
     "output_type": "stream",
     "text": [
      "             precision    recall  f1-score   support\n",
      "\n",
      "     B_MISC      0.916     0.907     0.912       905\n",
      "      B_PER      0.983     0.971     0.977      1686\n",
      "      I_PER      0.992     0.983     0.988      1170\n",
      "      B_LOC      0.966     0.959     0.962      1669\n",
      "      I_ORG      0.936     0.939     0.937       734\n",
      "     I_MISC      0.873     0.838     0.855       352\n",
      "      I_LOC      0.918     0.914     0.916       257\n",
      "\n",
      "avg / total      0.958     0.949     0.954      6773\n",
      "\n"
     ]
    },
    {
     "name": "stderr",
     "output_type": "stream",
     "text": [
      "2019-04-11 18:16:20,983 INFO: \n",
      "epoch 39, average train epoch loss=0.03044\n",
      "\n",
      "2019-04-11 18:16:34,141 INFO: on epoch 32 by max_f1: 0.957\n",
      "train loss: 0.00011348724365234375:   0%|          | 1/436 [00:00<00:55,  7.78it/s]"
     ]
    },
    {
     "name": "stdout",
     "output_type": "stream",
     "text": [
      "             precision    recall  f1-score   support\n",
      "\n",
      "     B_MISC      0.922     0.906     0.914       905\n",
      "      B_PER      0.982     0.973     0.977      1686\n",
      "      I_PER      0.992     0.981     0.987      1170\n",
      "      B_LOC      0.954     0.963     0.959      1669\n",
      "      I_ORG      0.945     0.935     0.940       734\n",
      "     I_MISC      0.892     0.824     0.857       352\n",
      "      I_LOC      0.948     0.914     0.931       257\n",
      "\n",
      "avg / total      0.959     0.949     0.954      6773\n",
      "\n"
     ]
    },
    {
     "name": "stderr",
     "output_type": "stream",
     "text": [
      "2019-04-11 18:17:55,225 INFO: \n",
      "epoch 40, average train epoch loss=0.035572\n",
      "\n",
      "2019-04-11 18:18:08,418 INFO: on epoch 32 by max_f1: 0.957\n",
      "train loss: 7.62939453125e-05:   0%|          | 1/436 [00:00<00:55,  7.87it/s]"
     ]
    },
    {
     "name": "stdout",
     "output_type": "stream",
     "text": [
      "             precision    recall  f1-score   support\n",
      "\n",
      "     B_MISC      0.932     0.898     0.915       905\n",
      "      B_PER      0.983     0.976     0.979      1686\n",
      "      I_PER      0.991     0.988     0.990      1170\n",
      "      B_LOC      0.954     0.960     0.957      1669\n",
      "      I_ORG      0.943     0.929     0.936       734\n",
      "     I_MISC      0.881     0.844     0.862       352\n",
      "      I_LOC      0.922     0.922     0.922       257\n",
      "\n",
      "avg / total      0.959     0.950     0.954      6773\n",
      "\n"
     ]
    },
    {
     "name": "stderr",
     "output_type": "stream",
     "text": [
      "2019-04-11 18:19:30,937 INFO: \n",
      "epoch 41, average train epoch loss=0.032861\n",
      "\n",
      "2019-04-11 18:19:45,400 INFO: on epoch 32 by max_f1: 0.957\n",
      "  0%|          | 0/436 [00:00<?, ?it/s]"
     ]
    },
    {
     "name": "stdout",
     "output_type": "stream",
     "text": [
      "             precision    recall  f1-score   support\n",
      "\n",
      "     B_MISC      0.930     0.906     0.918       905\n",
      "      B_PER      0.975     0.979     0.977      1686\n",
      "      I_PER      0.994     0.982     0.988      1170\n",
      "      B_LOC      0.967     0.959     0.963      1669\n",
      "      I_ORG      0.945     0.929     0.937       734\n",
      "     I_MISC      0.900     0.841     0.869       352\n",
      "      I_LOC      0.940     0.911     0.925       257\n",
      "\n",
      "avg / total      0.962     0.950     0.956      6773\n",
      "\n"
     ]
    },
    {
     "name": "stderr",
     "output_type": "stream",
     "text": [
      "2019-04-11 18:21:06,724 INFO: \n",
      "epoch 42, average train epoch loss=0.021528\n",
      "\n",
      "2019-04-11 18:21:20,016 INFO: on epoch 32 by max_f1: 0.957\n",
      "  0%|          | 0/436 [00:00<?, ?it/s]"
     ]
    },
    {
     "name": "stdout",
     "output_type": "stream",
     "text": [
      "             precision    recall  f1-score   support\n",
      "\n",
      "     B_MISC      0.920     0.904     0.912       905\n",
      "      B_PER      0.967     0.981     0.974      1686\n",
      "      I_PER      0.992     0.979     0.986      1170\n",
      "      B_LOC      0.968     0.955     0.961      1669\n",
      "      I_ORG      0.947     0.940     0.943       734\n",
      "     I_MISC      0.874     0.847     0.860       352\n",
      "      I_LOC      0.955     0.907     0.930       257\n",
      "\n",
      "avg / total      0.958     0.950     0.954      6773\n",
      "\n"
     ]
    },
    {
     "name": "stderr",
     "output_type": "stream",
     "text": [
      "2019-04-11 18:22:41,190 INFO: \n",
      "epoch 43, average train epoch loss=0.024263\n",
      "\n",
      "2019-04-11 18:22:54,494 INFO: on epoch 32 by max_f1: 0.957\n",
      "  0%|          | 0/436 [00:00<?, ?it/s]"
     ]
    },
    {
     "name": "stdout",
     "output_type": "stream",
     "text": [
      "             precision    recall  f1-score   support\n",
      "\n",
      "     B_MISC      0.925     0.912     0.918       905\n",
      "      B_PER      0.976     0.980     0.978      1686\n",
      "      I_PER      0.991     0.985     0.988      1170\n",
      "      B_LOC      0.965     0.960     0.963      1669\n",
      "      I_ORG      0.952     0.937     0.944       734\n",
      "     I_MISC      0.893     0.827     0.858       352\n",
      "      I_LOC      0.943     0.899     0.920       257\n",
      "\n",
      "avg / total      0.961     0.951     0.956      6773\n",
      "\n"
     ]
    },
    {
     "name": "stderr",
     "output_type": "stream",
     "text": [
      "2019-04-11 18:24:15,536 INFO: \n",
      "epoch 44, average train epoch loss=0.021751\n",
      "\n",
      "2019-04-11 18:24:28,705 INFO: on epoch 32 by max_f1: 0.957\n",
      "train loss: -0.0001239776611328125:   0%|          | 0/436 [00:00<?, ?it/s]"
     ]
    },
    {
     "name": "stdout",
     "output_type": "stream",
     "text": [
      "             precision    recall  f1-score   support\n",
      "\n",
      "     B_MISC      0.926     0.909     0.918       905\n",
      "      B_PER      0.977     0.979     0.978      1686\n",
      "      I_PER      0.992     0.981     0.987      1170\n",
      "      B_LOC      0.969     0.964     0.966      1669\n",
      "      I_ORG      0.959     0.916     0.937       734\n",
      "     I_MISC      0.881     0.844     0.862       352\n",
      "      I_LOC      0.963     0.903     0.932       257\n",
      "\n",
      "avg / total      0.963     0.950     0.956      6773\n",
      "\n"
     ]
    },
    {
     "name": "stderr",
     "output_type": "stream",
     "text": [
      "2019-04-11 18:25:50,297 INFO: \n",
      "epoch 45, average train epoch loss=0.0202\n",
      "\n",
      "2019-04-11 18:26:03,483 INFO: on epoch 32 by max_f1: 0.957\n",
      "train loss: 0.00019550323486328125:   0%|          | 1/436 [00:00<00:47,  9.20it/s]"
     ]
    },
    {
     "name": "stdout",
     "output_type": "stream",
     "text": [
      "             precision    recall  f1-score   support\n",
      "\n",
      "     B_MISC      0.911     0.912     0.911       905\n",
      "      B_PER      0.968     0.983     0.976      1686\n",
      "      I_PER      0.988     0.984     0.986      1170\n",
      "      B_LOC      0.968     0.961     0.965      1669\n",
      "      I_ORG      0.949     0.941     0.945       734\n",
      "     I_MISC      0.896     0.810     0.851       352\n",
      "      I_LOC      0.963     0.911     0.936       257\n",
      "\n",
      "avg / total      0.958     0.952     0.955      6773\n",
      "\n"
     ]
    },
    {
     "name": "stderr",
     "output_type": "stream",
     "text": [
      "2019-04-11 18:27:25,658 INFO: \n",
      "epoch 46, average train epoch loss=0.019677\n",
      "\n",
      "2019-04-11 18:27:38,839 INFO: on epoch 32 by max_f1: 0.957\n",
      "train loss: 0.00016689300537109375:   0%|          | 1/436 [00:00<00:48,  8.96it/s]"
     ]
    },
    {
     "name": "stdout",
     "output_type": "stream",
     "text": [
      "             precision    recall  f1-score   support\n",
      "\n",
      "     B_MISC      0.932     0.893     0.912       905\n",
      "      B_PER      0.976     0.979     0.978      1686\n",
      "      I_PER      0.992     0.979     0.986      1170\n",
      "      B_LOC      0.969     0.958     0.963      1669\n",
      "      I_ORG      0.946     0.931     0.938       734\n",
      "     I_MISC      0.882     0.827     0.853       352\n",
      "      I_LOC      0.950     0.895     0.922       257\n",
      "\n",
      "avg / total      0.962     0.946     0.954      6773\n",
      "\n"
     ]
    },
    {
     "name": "stderr",
     "output_type": "stream",
     "text": [
      "2019-04-11 18:29:01,619 INFO: \n",
      "epoch 47, average train epoch loss=0.015824\n",
      "\n",
      "2019-04-11 18:29:14,788 INFO: on epoch 32 by max_f1: 0.957\n",
      "train loss: 6.29425048828125e-05:   0%|          | 1/436 [00:00<00:48,  8.88it/s]"
     ]
    },
    {
     "name": "stdout",
     "output_type": "stream",
     "text": [
      "             precision    recall  f1-score   support\n",
      "\n",
      "     B_MISC      0.927     0.912     0.919       905\n",
      "      B_PER      0.976     0.978     0.977      1686\n",
      "      I_PER      0.992     0.981     0.987      1170\n",
      "      B_LOC      0.966     0.959     0.962      1669\n",
      "      I_ORG      0.947     0.933     0.940       734\n",
      "     I_MISC      0.887     0.824     0.854       352\n",
      "      I_LOC      0.951     0.911     0.930       257\n",
      "\n",
      "avg / total      0.961     0.950     0.955      6773\n",
      "\n"
     ]
    },
    {
     "name": "stderr",
     "output_type": "stream",
     "text": [
      "2019-04-11 18:30:37,019 INFO: \n",
      "epoch 48, average train epoch loss=0.062551\n",
      "\n",
      "2019-04-11 18:30:50,592 INFO: on epoch 32 by max_f1: 0.957\n",
      "train loss: -0.00014972686767578125:   0%|          | 0/436 [00:00<?, ?it/s]"
     ]
    },
    {
     "name": "stdout",
     "output_type": "stream",
     "text": [
      "             precision    recall  f1-score   support\n",
      "\n",
      "     B_MISC      0.928     0.896     0.912       905\n",
      "      B_PER      0.970     0.981     0.976      1686\n",
      "      I_PER      0.991     0.979     0.985      1170\n",
      "      B_LOC      0.968     0.957     0.963      1669\n",
      "      I_ORG      0.952     0.926     0.939       734\n",
      "     I_MISC      0.898     0.821     0.858       352\n",
      "      I_LOC      0.943     0.899     0.920       257\n",
      "\n",
      "avg / total      0.961     0.946     0.953      6773\n",
      "\n"
     ]
    },
    {
     "name": "stderr",
     "output_type": "stream",
     "text": [
      "2019-04-11 18:32:13,695 INFO: \n",
      "epoch 49, average train epoch loss=0.021023\n",
      "\n",
      "2019-04-11 18:32:26,882 INFO: on epoch 32 by max_f1: 0.957\n",
      "train loss: 0.0001239776611328125:   0%|          | 1/436 [00:00<01:11,  6.08it/s]"
     ]
    },
    {
     "name": "stdout",
     "output_type": "stream",
     "text": [
      "             precision    recall  f1-score   support\n",
      "\n",
      "     B_MISC      0.926     0.903     0.914       905\n",
      "      B_PER      0.978     0.976     0.977      1686\n",
      "      I_PER      0.993     0.980     0.987      1170\n",
      "      B_LOC      0.962     0.960     0.961      1669\n",
      "      I_ORG      0.945     0.929     0.937       734\n",
      "     I_MISC      0.885     0.830     0.856       352\n",
      "      I_LOC      0.939     0.899     0.918       257\n",
      "\n",
      "avg / total      0.960     0.947     0.953      6773\n",
      "\n"
     ]
    },
    {
     "name": "stderr",
     "output_type": "stream",
     "text": [
      "2019-04-11 18:33:47,474 INFO: \n",
      "epoch 50, average train epoch loss=0.0155\n",
      "\n",
      "2019-04-11 18:34:00,712 INFO: on epoch 32 by max_f1: 0.957\n",
      "train loss: 0.00012874603271484375:   0%|          | 0/436 [00:00<?, ?it/s]"
     ]
    },
    {
     "name": "stdout",
     "output_type": "stream",
     "text": [
      "             precision    recall  f1-score   support\n",
      "\n",
      "     B_MISC      0.926     0.913     0.919       905\n",
      "      B_PER      0.975     0.977     0.976      1686\n",
      "      I_PER      0.991     0.981     0.986      1170\n",
      "      B_LOC      0.964     0.960     0.962      1669\n",
      "      I_ORG      0.945     0.929     0.937       734\n",
      "     I_MISC      0.885     0.830     0.856       352\n",
      "      I_LOC      0.915     0.918     0.917       257\n",
      "\n",
      "avg / total      0.958     0.950     0.954      6773\n",
      "\n"
     ]
    },
    {
     "name": "stderr",
     "output_type": "stream",
     "text": [
      "train loss: 0.013126616176453351:  98%|█████████▊| 427/436 [01:15<00:01,  5.64it/s]"
     ]
    }
   ],
   "source": [
    "learner.fit(num_epochs, target_metric='f1')"
   ]
  },
  {
   "cell_type": "markdown",
   "metadata": {},
   "source": [
    "### 5. Evaluate dev set"
   ]
  },
  {
   "cell_type": "code",
   "execution_count": 47,
   "metadata": {},
   "outputs": [
    {
     "name": "stderr",
     "output_type": "stream",
     "text": []
    }
   ],
   "source": [
    "from modules.data.bert_data import get_bert_data_loader_for_predict\n",
    "dl = get_bert_data_loader_for_predict(data_path + \"valid.csv\", learner)"
   ]
  },
  {
   "cell_type": "code",
   "execution_count": 28,
   "metadata": {},
   "outputs": [],
   "source": [
    "learner.load_model()"
   ]
  },
  {
   "cell_type": "code",
   "execution_count": 29,
   "metadata": {},
   "outputs": [
    {
     "name": "stderr",
     "output_type": "stream",
     "text": [
      "\n",
      "  0%|          | 0/109 [00:00<?, ?it/s]\u001b[A\n",
      "  2%|▏         | 2/109 [00:00<00:16,  6.60it/s]\u001b[A\n",
      "  4%|▎         | 4/109 [00:00<00:13,  7.51it/s]\u001b[A\n",
      "  5%|▍         | 5/109 [00:00<00:20,  5.08it/s]\u001b[A\n",
      "  6%|▋         | 7/109 [00:01<00:17,  5.76it/s]\u001b[A\n",
      "  8%|▊         | 9/109 [00:01<00:18,  5.50it/s]\u001b[A\n",
      " 10%|█         | 11/109 [00:01<00:15,  6.19it/s]\u001b[A\n",
      " 12%|█▏        | 13/109 [00:01<00:13,  7.36it/s]\u001b[A\n",
      " 14%|█▍        | 15/109 [00:02<00:11,  8.19it/s]\u001b[A\n",
      " 16%|█▌        | 17/109 [00:02<00:09,  9.69it/s]\u001b[A\n",
      " 17%|█▋        | 19/109 [00:02<00:08, 11.09it/s]\u001b[A\n",
      " 19%|█▉        | 21/109 [00:02<00:07, 12.55it/s]\u001b[A\n",
      " 21%|██        | 23/109 [00:02<00:06, 13.28it/s]\u001b[A\n",
      " 23%|██▎       | 25/109 [00:02<00:05, 14.54it/s]\u001b[A\n",
      " 25%|██▍       | 27/109 [00:02<00:05, 14.18it/s]\u001b[A\n",
      " 27%|██▋       | 29/109 [00:02<00:05, 15.16it/s]\u001b[A\n",
      " 28%|██▊       | 31/109 [00:03<00:05, 14.65it/s]\u001b[A\n",
      " 30%|███       | 33/109 [00:03<00:04, 15.45it/s]\u001b[A\n",
      " 32%|███▏      | 35/109 [00:03<00:04, 15.73it/s]\u001b[A\n",
      " 34%|███▍      | 37/109 [00:03<00:05, 14.09it/s]\u001b[A\n",
      " 36%|███▌      | 39/109 [00:03<00:04, 14.97it/s]\u001b[A\n",
      " 38%|███▊      | 41/109 [00:03<00:04, 15.91it/s]\u001b[A\n",
      " 39%|███▉      | 43/109 [00:03<00:04, 14.35it/s]\u001b[A\n",
      " 42%|████▏     | 46/109 [00:04<00:04, 12.79it/s]\u001b[A\n",
      " 44%|████▍     | 48/109 [00:04<00:05, 11.81it/s]\u001b[A\n",
      " 46%|████▌     | 50/109 [00:04<00:04, 13.19it/s]\u001b[A\n",
      " 48%|████▊     | 52/109 [00:04<00:04, 13.45it/s]\u001b[A\n",
      " 50%|████▉     | 54/109 [00:04<00:03, 14.85it/s]\u001b[A\n",
      " 51%|█████▏    | 56/109 [00:04<00:03, 14.29it/s]\u001b[A\n",
      " 53%|█████▎    | 58/109 [00:04<00:03, 14.63it/s]\u001b[A\n",
      " 55%|█████▌    | 60/109 [00:05<00:06,  7.24it/s]\u001b[A\n",
      " 57%|█████▋    | 62/109 [00:05<00:05,  8.76it/s]\u001b[A\n",
      " 59%|█████▊    | 64/109 [00:05<00:05,  8.28it/s]\u001b[A\n",
      " 61%|██████    | 66/109 [00:06<00:07,  5.89it/s]\u001b[A\n",
      " 61%|██████▏   | 67/109 [00:06<00:06,  6.49it/s]\u001b[A\n",
      " 62%|██████▏   | 68/109 [00:06<00:08,  4.74it/s]\u001b[A\n",
      " 64%|██████▍   | 70/109 [00:07<00:06,  5.85it/s]\u001b[A\n",
      " 66%|██████▌   | 72/109 [00:07<00:05,  6.85it/s]\u001b[A\n",
      " 67%|██████▋   | 73/109 [00:07<00:07,  4.86it/s]\u001b[A\n",
      " 69%|██████▉   | 75/109 [00:07<00:05,  6.10it/s]\u001b[A\n",
      " 71%|███████   | 77/109 [00:07<00:04,  7.45it/s]\u001b[A\n",
      " 72%|███████▏  | 79/109 [00:08<00:04,  6.82it/s]\u001b[A\n",
      " 74%|███████▍  | 81/109 [00:08<00:03,  7.69it/s]\u001b[A\n",
      " 77%|███████▋  | 84/109 [00:08<00:02,  9.58it/s]\u001b[A\n",
      " 80%|███████▉  | 87/109 [00:08<00:01, 11.48it/s]\u001b[A\n",
      " 82%|████████▏ | 89/109 [00:08<00:01, 11.71it/s]\u001b[A\n",
      " 83%|████████▎ | 91/109 [00:09<00:01, 12.95it/s]\u001b[A\n",
      " 85%|████████▌ | 93/109 [00:09<00:01, 11.60it/s]\u001b[A\n",
      " 87%|████████▋ | 95/109 [00:09<00:01, 12.57it/s]\u001b[A\n",
      " 89%|████████▉ | 97/109 [00:09<00:00, 14.13it/s]\u001b[A\n",
      " 91%|█████████ | 99/109 [00:09<00:00, 15.46it/s]\u001b[A\n",
      " 93%|█████████▎| 101/109 [00:09<00:00, 14.69it/s]\u001b[A\n",
      " 94%|█████████▍| 103/109 [00:09<00:00, 15.51it/s]\u001b[A\n",
      " 96%|█████████▋| 105/109 [00:09<00:00, 15.23it/s]\u001b[A\n",
      " 98%|█████████▊| 107/109 [00:10<00:00, 16.13it/s]\u001b[A\n",
      "100%|██████████| 109/109 [00:10<00:00, 15.83it/s]\u001b[A\n",
      "                                                 \u001b[A"
     ]
    }
   ],
   "source": [
    "preds = learner.predict(dl)"
   ]
  },
  {
   "cell_type": "markdown",
   "metadata": {},
   "source": [
    "IOB precision"
   ]
  },
  {
   "cell_type": "code",
   "execution_count": 30,
   "metadata": {},
   "outputs": [
    {
     "name": "stderr",
     "output_type": "stream",
     "text": [
      "\n",
      "  0%|          | 0/109 [00:00<?, ?it/s]\u001b[A\n",
      "  2%|▏         | 2/109 [00:00<00:19,  5.44it/s]\u001b[A\n",
      "  4%|▎         | 4/109 [00:00<00:17,  6.08it/s]\u001b[A\n",
      "  5%|▍         | 5/109 [00:01<00:25,  4.07it/s]\u001b[A\n",
      "  6%|▌         | 6/109 [00:01<00:20,  4.92it/s]\u001b[A\n",
      "  6%|▋         | 7/109 [00:01<00:20,  4.93it/s]\u001b[A\n",
      "  8%|▊         | 9/109 [00:01<00:21,  4.69it/s]\u001b[A\n",
      " 10%|█         | 11/109 [00:02<00:19,  5.15it/s]\u001b[A\n",
      " 12%|█▏        | 13/109 [00:02<00:16,  5.96it/s]\u001b[A\n",
      " 14%|█▍        | 15/109 [00:02<00:14,  6.50it/s]\u001b[A\n",
      " 16%|█▌        | 17/109 [00:02<00:12,  7.46it/s]\u001b[A\n",
      " 17%|█▋        | 19/109 [00:02<00:10,  8.40it/s]\u001b[A\n",
      " 19%|█▉        | 21/109 [00:03<00:09,  9.31it/s]\u001b[A\n",
      " 21%|██        | 23/109 [00:03<00:08,  9.61it/s]\u001b[A\n",
      " 23%|██▎       | 25/109 [00:03<00:08, 10.40it/s]\u001b[A\n",
      " 25%|██▍       | 27/109 [00:03<00:08, 10.09it/s]\u001b[A\n",
      " 27%|██▋       | 29/109 [00:03<00:07, 10.51it/s]\u001b[A\n",
      " 28%|██▊       | 31/109 [00:04<00:07, 10.25it/s]\u001b[A\n",
      " 30%|███       | 33/109 [00:04<00:07, 10.67it/s]\u001b[A\n",
      " 32%|███▏      | 35/109 [00:04<00:06, 10.70it/s]\u001b[A\n",
      " 34%|███▍      | 37/109 [00:04<00:07,  9.87it/s]\u001b[A\n",
      " 36%|███▌      | 39/109 [00:04<00:06, 10.49it/s]\u001b[A\n",
      " 38%|███▊      | 41/109 [00:04<00:06, 11.18it/s]\u001b[A\n",
      " 39%|███▉      | 43/109 [00:05<00:06, 10.28it/s]\u001b[A\n",
      " 41%|████▏     | 45/109 [00:05<00:05, 11.21it/s]\u001b[A\n",
      " 43%|████▎     | 47/109 [00:05<00:06,  9.12it/s]\u001b[A\n",
      " 45%|████▍     | 49/109 [00:05<00:07,  8.49it/s]\u001b[A\n",
      " 47%|████▋     | 51/109 [00:06<00:06,  8.90it/s]\u001b[A\n",
      " 49%|████▊     | 53/109 [00:06<00:05,  9.76it/s]\u001b[A\n",
      " 50%|█████     | 55/109 [00:06<00:05, 10.34it/s]\u001b[A\n",
      " 52%|█████▏    | 57/109 [00:06<00:05, 10.03it/s]\u001b[A\n",
      " 54%|█████▍    | 59/109 [00:07<00:06,  7.65it/s]\u001b[A\n",
      " 55%|█████▌    | 60/109 [00:07<00:10,  4.57it/s]\u001b[A\n",
      " 57%|█████▋    | 62/109 [00:07<00:08,  5.65it/s]\u001b[A\n",
      " 59%|█████▊    | 64/109 [00:07<00:07,  5.67it/s]\u001b[A\n",
      " 60%|█████▉    | 65/109 [00:08<00:10,  4.02it/s]\u001b[A\n",
      " 61%|██████    | 66/109 [00:08<00:10,  3.92it/s]\u001b[A\n",
      " 61%|██████▏   | 67/109 [00:08<00:09,  4.46it/s]\u001b[A\n",
      " 62%|██████▏   | 68/109 [00:09<00:11,  3.65it/s]\u001b[A\n",
      " 63%|██████▎   | 69/109 [00:09<00:09,  4.38it/s]\u001b[A\n",
      " 64%|██████▍   | 70/109 [00:09<00:07,  5.24it/s]\u001b[A\n",
      " 65%|██████▌   | 71/109 [00:09<00:06,  5.77it/s]\u001b[A\n",
      " 66%|██████▌   | 72/109 [00:09<00:05,  6.55it/s]\u001b[A\n",
      " 67%|██████▋   | 73/109 [00:10<00:08,  4.33it/s]\u001b[A\n",
      " 68%|██████▊   | 74/109 [00:10<00:06,  5.14it/s]\u001b[A\n",
      " 70%|██████▉   | 76/109 [00:10<00:05,  6.22it/s]\u001b[A\n",
      " 72%|███████▏  | 78/109 [00:10<00:05,  5.85it/s]\u001b[A\n",
      " 72%|███████▏  | 79/109 [00:10<00:04,  6.13it/s]\u001b[A\n",
      " 73%|███████▎  | 80/109 [00:10<00:04,  6.69it/s]\u001b[A\n",
      " 74%|███████▍  | 81/109 [00:11<00:04,  6.99it/s]\u001b[A\n",
      " 76%|███████▌  | 83/109 [00:11<00:03,  8.34it/s]\u001b[A\n",
      " 78%|███████▊  | 85/109 [00:11<00:02,  9.62it/s]\u001b[A\n",
      " 80%|███████▉  | 87/109 [00:11<00:02, 10.71it/s]\u001b[A\n",
      " 82%|████████▏ | 89/109 [00:11<00:01, 10.09it/s]\u001b[A\n",
      " 83%|████████▎ | 91/109 [00:11<00:01, 10.41it/s]\u001b[A\n",
      " 85%|████████▌ | 93/109 [00:12<00:01,  9.23it/s]\u001b[A\n",
      " 87%|████████▋ | 95/109 [00:12<00:01,  9.69it/s]\u001b[A\n",
      " 89%|████████▉ | 97/109 [00:12<00:01, 10.62it/s]\u001b[A\n",
      " 91%|█████████ | 99/109 [00:12<00:00, 11.36it/s]\u001b[A\n",
      " 93%|█████████▎| 101/109 [00:12<00:00, 10.86it/s]\u001b[A\n",
      " 94%|█████████▍| 103/109 [00:13<00:00, 11.16it/s]\u001b[A\n",
      " 96%|█████████▋| 105/109 [00:13<00:00, 10.88it/s]\u001b[A\n",
      " 98%|█████████▊| 107/109 [00:13<00:00, 11.40it/s]\u001b[A\n",
      "100%|██████████| 109/109 [00:13<00:00, 11.31it/s]\u001b[A\n",
      "                                                 \u001b[A"
     ]
    },
    {
     "name": "stdout",
     "output_type": "stream",
     "text": [
      "             precision    recall  f1-score   support\n",
      "\n",
      "     B_MISC      0.926     0.915     0.921       905\n",
      "      B_PER      0.965     0.984     0.974      1686\n",
      "      I_PER      0.986     0.991     0.988      1170\n",
      "      B_LOC      0.970     0.962     0.966      1669\n",
      "      I_ORG      0.956     0.928     0.942       734\n",
      "     I_MISC      0.885     0.872     0.878       352\n",
      "      I_LOC      0.944     0.922     0.933       257\n",
      "\n",
      "avg / total      0.959     0.956     0.957      6773\n",
      "\n"
     ]
    }
   ],
   "source": [
    "from modules.train.train import validate_step\n",
    "print(validate_step(learner.data.valid_dl, learner.model, learner.data.id2label, learner.sup_labels))"
   ]
  },
  {
   "cell_type": "markdown",
   "metadata": {},
   "source": [
    "Span precision"
   ]
  },
  {
   "cell_type": "code",
   "execution_count": 31,
   "metadata": {},
   "outputs": [
    {
     "name": "stdout",
     "output_type": "stream",
     "text": [
      "             precision    recall  f1-score   support\n",
      "\n",
      "        LOC      0.921     0.919     0.920      1669\n",
      "          O      0.992     0.991     0.992     41821\n",
      "        PER      0.942     0.964     0.953      1686\n",
      "        ORG      0.841     0.844     0.843      1282\n",
      "       MISC      0.880     0.890     0.885       905\n",
      "\n",
      "avg / total      0.982     0.982     0.982     47363\n",
      "\n"
     ]
    }
   ],
   "source": [
    "from modules.utils.plot_metrics import get_bert_span_report\n",
    "clf_report = get_bert_span_report(dl, preds, [])\n",
    "print(clf_report)"
   ]
  },
  {
   "cell_type": "markdown",
   "metadata": {},
   "source": [
    "### 6. Evaluate test set"
   ]
  },
  {
   "cell_type": "code",
   "execution_count": 32,
   "metadata": {},
   "outputs": [
    {
     "name": "stderr",
     "output_type": "stream",
     "text": [
      "\n",
      "  0%|          | 0/1559 [00:00<?, ?it/s]\u001b[A\n",
      "  8%|▊         | 126/1559 [00:00<00:01, 1257.93it/s]\u001b[A\n",
      " 15%|█▌        | 237/1559 [00:00<00:01, 1208.19it/s]\u001b[A\n",
      " 24%|██▎       | 368/1559 [00:00<00:00, 1234.71it/s]\u001b[A\n",
      " 33%|███▎      | 515/1559 [00:00<00:00, 1296.40it/s]\u001b[A\n",
      " 43%|████▎     | 665/1559 [00:00<00:00, 1350.23it/s]\u001b[A\n",
      " 52%|█████▏    | 805/1559 [00:00<00:00, 1363.03it/s]\u001b[A\n",
      " 61%|██████    | 954/1559 [00:00<00:00, 1398.42it/s]\u001b[A\n",
      " 70%|███████   | 1093/1559 [00:00<00:00, 1395.68it/s]\u001b[A\n",
      " 80%|███████▉  | 1243/1559 [00:00<00:00, 1424.08it/s]\u001b[A\n",
      " 89%|████████▊ | 1381/1559 [00:01<00:00, 1341.20it/s]\u001b[A\n",
      " 97%|█████████▋| 1513/1559 [00:01<00:00, 1310.34it/s]\u001b[A\n",
      "                                                     \u001b[A"
     ]
    }
   ],
   "source": [
    "from modules.data.bert_data import get_bert_data_loader_for_predict\n",
    "dl = get_bert_data_loader_for_predict(data_path + \"test.csv\", learner)"
   ]
  },
  {
   "cell_type": "code",
   "execution_count": 33,
   "metadata": {},
   "outputs": [
    {
     "name": "stderr",
     "output_type": "stream",
     "text": [
      "\n",
      "  0%|          | 0/98 [00:00<?, ?it/s]\u001b[A\n",
      "  2%|▏         | 2/98 [00:00<00:07, 12.26it/s]\u001b[A\n",
      "  3%|▎         | 3/98 [00:00<00:15,  6.15it/s]\u001b[A\n",
      "  4%|▍         | 4/98 [00:00<00:17,  5.34it/s]\u001b[A\n",
      "  5%|▌         | 5/98 [00:00<00:17,  5.26it/s]\u001b[A\n",
      "  7%|▋         | 7/98 [00:01<00:14,  6.12it/s]\u001b[A\n",
      "  9%|▉         | 9/98 [00:01<00:15,  5.72it/s]\u001b[A\n",
      " 11%|█         | 11/98 [00:01<00:15,  5.49it/s]\u001b[A\n",
      " 12%|█▏        | 12/98 [00:02<00:15,  5.50it/s]\u001b[A\n",
      " 13%|█▎        | 13/98 [00:02<00:19,  4.32it/s]\u001b[A\n",
      " 15%|█▌        | 15/98 [00:02<00:15,  5.53it/s]\u001b[A\n",
      " 16%|█▋        | 16/98 [00:02<00:13,  6.11it/s]\u001b[A\n",
      " 18%|█▊        | 18/98 [00:02<00:10,  7.39it/s]\u001b[A\n",
      " 20%|██        | 20/98 [00:02<00:08,  8.87it/s]\u001b[A\n",
      " 22%|██▏       | 22/98 [00:03<00:07, 10.11it/s]\u001b[A\n",
      " 24%|██▍       | 24/98 [00:03<00:06, 10.74it/s]\u001b[A\n",
      " 27%|██▋       | 26/98 [00:03<00:05, 12.11it/s]\u001b[A\n",
      " 29%|██▊       | 28/98 [00:03<00:07,  9.50it/s]\u001b[A\n",
      " 31%|███       | 30/98 [00:03<00:06, 11.11it/s]\u001b[A\n",
      " 33%|███▎      | 32/98 [00:03<00:05, 12.01it/s]\u001b[A\n",
      " 36%|███▌      | 35/98 [00:04<00:04, 13.82it/s]\u001b[A\n",
      " 38%|███▊      | 37/98 [00:04<00:04, 12.49it/s]\u001b[A\n",
      " 40%|███▉      | 39/98 [00:04<00:04, 13.16it/s]\u001b[A\n",
      " 42%|████▏     | 41/98 [00:04<00:04, 14.07it/s]\u001b[A\n",
      " 44%|████▍     | 43/98 [00:04<00:04, 13.44it/s]\u001b[A\n",
      " 46%|████▌     | 45/98 [00:04<00:03, 14.22it/s]\u001b[A\n",
      " 48%|████▊     | 47/98 [00:04<00:03, 15.11it/s]\u001b[A\n",
      " 50%|█████     | 49/98 [00:05<00:03, 14.48it/s]\u001b[A\n",
      " 52%|█████▏    | 51/98 [00:05<00:03, 14.43it/s]\u001b[A\n",
      " 54%|█████▍    | 53/98 [00:05<00:04, 10.44it/s]\u001b[A\n",
      " 56%|█████▌    | 55/98 [00:05<00:05,  7.83it/s]\u001b[A\n",
      " 58%|█████▊    | 57/98 [00:06<00:04,  8.53it/s]\u001b[A\n",
      " 60%|██████    | 59/98 [00:06<00:04,  9.62it/s]\u001b[A\n",
      " 62%|██████▏   | 61/98 [00:06<00:03, 11.10it/s]\u001b[A\n",
      " 64%|██████▍   | 63/98 [00:06<00:02, 12.52it/s]\u001b[A\n",
      " 66%|██████▋   | 65/98 [00:06<00:02, 13.61it/s]\u001b[A\n",
      " 68%|██████▊   | 67/98 [00:06<00:02, 14.69it/s]\u001b[A\n",
      " 70%|███████   | 69/98 [00:06<00:02, 11.80it/s]\u001b[A\n",
      " 72%|███████▏  | 71/98 [00:07<00:02, 12.54it/s]\u001b[A\n",
      " 74%|███████▍  | 73/98 [00:07<00:01, 13.93it/s]\u001b[A\n",
      " 77%|███████▋  | 75/98 [00:07<00:01, 15.07it/s]\u001b[A\n",
      " 79%|███████▊  | 77/98 [00:07<00:01, 15.60it/s]\u001b[A\n",
      " 81%|████████  | 79/98 [00:07<00:01, 12.69it/s]\u001b[A\n",
      " 83%|████████▎ | 81/98 [00:07<00:01, 12.87it/s]\u001b[A\n",
      " 85%|████████▍ | 83/98 [00:08<00:01, 12.84it/s]\u001b[A\n",
      " 87%|████████▋ | 85/98 [00:08<00:02,  6.34it/s]\u001b[A\n",
      " 89%|████████▉ | 87/98 [00:09<00:02,  5.35it/s]\u001b[A\n",
      " 91%|█████████ | 89/98 [00:09<00:01,  5.63it/s]\u001b[A\n",
      " 92%|█████████▏| 90/98 [00:09<00:01,  6.03it/s]\u001b[A\n",
      " 94%|█████████▍| 92/98 [00:10<00:01,  5.67it/s]\u001b[A\n",
      " 95%|█████████▍| 93/98 [00:10<00:00,  5.13it/s]\u001b[A\n",
      " 97%|█████████▋| 95/98 [00:10<00:00,  4.96it/s]\u001b[A\n",
      " 98%|█████████▊| 96/98 [00:11<00:00,  4.07it/s]\u001b[A\n",
      " 99%|█████████▉| 97/98 [00:11<00:00,  4.15it/s]\u001b[A\n",
      "                                               \u001b[A"
     ]
    }
   ],
   "source": [
    "preds = learner.predict(dl)"
   ]
  },
  {
   "cell_type": "code",
   "execution_count": 34,
   "metadata": {},
   "outputs": [
    {
     "name": "stderr",
     "output_type": "stream",
     "text": [
      "\n",
      "  0%|          | 0/6973 [00:00<?, ?it/s]\u001b[A\n",
      "  2%|▏         | 144/6973 [00:00<00:04, 1432.58it/s]\u001b[A\n",
      "  4%|▍         | 267/6973 [00:00<00:04, 1362.33it/s]\u001b[A\n",
      "  6%|▌         | 394/6973 [00:00<00:04, 1331.83it/s]\u001b[A\n",
      "  8%|▊         | 534/6973 [00:00<00:04, 1351.15it/s]\u001b[A\n",
      "  9%|▉         | 661/6973 [00:00<00:04, 1323.32it/s]\u001b[A\n",
      " 12%|█▏        | 806/6973 [00:00<00:04, 1358.46it/s]\u001b[A\n",
      " 14%|█▎        | 949/6973 [00:00<00:04, 1376.49it/s]\u001b[A\n",
      " 15%|█▌        | 1076/6973 [00:00<00:04, 1325.54it/s]\u001b[A\n",
      " 17%|█▋        | 1209/6973 [00:00<00:04, 1322.01it/s]\u001b[A\n",
      " 19%|█▉        | 1336/6973 [00:01<00:04, 1297.38it/s]\u001b[A\n",
      " 21%|██        | 1480/6973 [00:01<00:04, 1337.06it/s]\u001b[A\n",
      " 23%|██▎       | 1618/6973 [00:01<00:03, 1349.35it/s]\u001b[A\n",
      " 25%|██▌       | 1752/6973 [00:01<00:03, 1341.06it/s]\u001b[A\n",
      " 27%|██▋       | 1886/6973 [00:01<00:03, 1311.02it/s]\u001b[A\n",
      " 29%|██▉       | 2017/6973 [00:01<00:03, 1288.12it/s]\u001b[A\n",
      " 31%|███       | 2159/6973 [00:01<00:03, 1324.07it/s]\u001b[A\n",
      " 33%|███▎      | 2292/6973 [00:01<00:03, 1200.40it/s]\u001b[A\n",
      " 35%|███▍      | 2415/6973 [00:01<00:04, 1118.22it/s]\u001b[A\n",
      " 36%|███▋      | 2545/6973 [00:01<00:03, 1164.39it/s]\u001b[A\n",
      " 38%|███▊      | 2680/6973 [00:02<00:03, 1213.36it/s]\u001b[A\n",
      " 40%|████      | 2824/6973 [00:02<00:03, 1267.16it/s]\u001b[A\n",
      " 42%|████▏     | 2953/6973 [00:02<00:03, 1223.83it/s]\u001b[A\n",
      " 44%|████▍     | 3078/6973 [00:02<00:03, 1221.02it/s]\u001b[A\n",
      " 46%|████▌     | 3218/6973 [00:02<00:02, 1267.39it/s]\u001b[A\n",
      " 48%|████▊     | 3357/6973 [00:02<00:02, 1268.48it/s]\u001b[A\n",
      " 50%|█████     | 3495/6973 [00:02<00:02, 1299.86it/s]\u001b[A\n",
      " 52%|█████▏    | 3640/6973 [00:02<00:02, 1340.74it/s]\u001b[A\n",
      " 54%|█████▍    | 3775/6973 [00:02<00:02, 1272.82it/s]\u001b[A\n",
      " 56%|█████▌    | 3916/6973 [00:03<00:02, 1309.57it/s]\u001b[A\n",
      " 58%|█████▊    | 4051/6973 [00:03<00:02, 1299.43it/s]\u001b[A\n",
      " 60%|██████    | 4204/6973 [00:03<00:02, 1359.14it/s]\u001b[A\n",
      " 62%|██████▏   | 4350/6973 [00:03<00:01, 1387.47it/s]\u001b[A\n",
      " 64%|██████▍   | 4490/6973 [00:03<00:01, 1369.60it/s]\u001b[A\n",
      " 66%|██████▋   | 4630/6973 [00:03<00:01, 1376.91it/s]\u001b[A\n",
      " 68%|██████▊   | 4769/6973 [00:03<00:01, 1258.21it/s]\u001b[A\n",
      " 70%|███████   | 4898/6973 [00:04<00:03, 550.31it/s] \u001b[A\n",
      " 72%|███████▏  | 5053/6973 [00:04<00:02, 682.26it/s]\u001b[A\n",
      " 75%|███████▍  | 5202/6973 [00:04<00:02, 814.05it/s]\u001b[A\n",
      " 77%|███████▋  | 5340/6973 [00:04<00:01, 927.62it/s]\u001b[A\n",
      " 79%|███████▊  | 5486/6973 [00:04<00:01, 1041.15it/s]\u001b[A\n",
      " 81%|████████  | 5620/6973 [00:04<00:01, 1099.56it/s]\u001b[A\n",
      " 83%|████████▎ | 5765/6973 [00:04<00:01, 1185.13it/s]\u001b[A\n",
      " 85%|████████▍ | 5905/6973 [00:04<00:00, 1240.29it/s]\u001b[A\n",
      " 87%|████████▋ | 6042/6973 [00:05<00:00, 1186.03it/s]\u001b[A\n",
      " 89%|████████▊ | 6182/6973 [00:05<00:00, 1241.07it/s]\u001b[A\n",
      " 91%|█████████ | 6314/6973 [00:05<00:00, 1240.77it/s]\u001b[A\n",
      " 93%|█████████▎| 6462/6973 [00:05<00:00, 1300.65it/s]\u001b[A\n",
      " 95%|█████████▍| 6603/6973 [00:05<00:00, 1331.36it/s]\u001b[A\n",
      " 97%|█████████▋| 6746/6973 [00:05<00:00, 1357.04it/s]\u001b[A\n",
      " 99%|█████████▊| 6885/6973 [00:05<00:00, 1326.59it/s]\u001b[A\n",
      "                                                     \u001b[A\n",
      "  0%|          | 0/1559 [00:00<?, ?it/s]\u001b[A\n",
      "  8%|▊         | 121/1559 [00:00<00:01, 1203.78it/s]\u001b[A\n",
      " 15%|█▍        | 232/1559 [00:00<00:01, 1171.78it/s]\u001b[A\n",
      " 23%|██▎       | 364/1559 [00:00<00:00, 1211.77it/s]\u001b[A\n",
      " 32%|███▏      | 506/1559 [00:00<00:00, 1265.59it/s]\u001b[A\n",
      " 41%|████      | 633/1559 [00:00<00:00, 1266.29it/s]\u001b[A\n",
      " 50%|████▉     | 775/1559 [00:00<00:00, 1307.43it/s]\u001b[A\n",
      " 59%|█████▉    | 918/1559 [00:00<00:00, 1341.05it/s]\u001b[A\n",
      " 69%|██████▉   | 1075/1559 [00:00<00:00, 1395.15it/s]\u001b[A\n",
      " 79%|███████▊  | 1224/1559 [00:00<00:00, 1419.10it/s]\u001b[A\n",
      " 87%|████████▋ | 1362/1559 [00:01<00:00, 1302.80it/s]\u001b[A\n",
      " 96%|█████████▌| 1492/1559 [00:01<00:00, 1268.13it/s]\u001b[A\n",
      "                                                     \u001b[A"
     ]
    }
   ],
   "source": [
    "data = NerData.create(train_path, data_path + \"test.csv\", vocab_file)"
   ]
  },
  {
   "cell_type": "markdown",
   "metadata": {},
   "source": [
    "IOB precision"
   ]
  },
  {
   "cell_type": "code",
   "execution_count": 291,
   "metadata": {},
   "outputs": [
    {
     "name": "stderr",
     "output_type": "stream",
     "text": [
      "\n",
      "  0%|          | 0/98 [00:00<?, ?it/s]\u001b[A\n",
      "  2%|▏         | 2/98 [00:00<00:10,  9.25it/s]\u001b[A\n",
      "  3%|▎         | 3/98 [00:00<00:20,  4.54it/s]\u001b[A\n",
      "  4%|▍         | 4/98 [00:01<00:23,  3.96it/s]\u001b[A\n",
      "  5%|▌         | 5/98 [00:01<00:23,  3.89it/s]\u001b[A\n",
      "  7%|▋         | 7/98 [00:01<00:20,  4.50it/s]\u001b[A\n",
      "  9%|▉         | 9/98 [00:02<00:20,  4.34it/s]\u001b[A\n",
      " 11%|█         | 11/98 [00:02<00:20,  4.19it/s]\u001b[A\n",
      " 12%|█▏        | 12/98 [00:02<00:19,  4.34it/s]\u001b[A\n",
      " 13%|█▎        | 13/98 [00:03<00:24,  3.51it/s]\u001b[A\n",
      " 15%|█▌        | 15/98 [00:03<00:18,  4.42it/s]\u001b[A\n",
      " 16%|█▋        | 16/98 [00:03<00:17,  4.75it/s]\u001b[A\n",
      " 17%|█▋        | 17/98 [00:03<00:15,  5.37it/s]\u001b[A\n",
      " 18%|█▊        | 18/98 [00:03<00:13,  5.85it/s]\u001b[A\n",
      " 20%|██        | 20/98 [00:04<00:11,  6.81it/s]\u001b[A\n",
      " 21%|██▏       | 21/98 [00:04<00:10,  7.43it/s]\u001b[A\n",
      " 23%|██▎       | 23/98 [00:04<00:09,  8.33it/s]\u001b[A\n",
      " 24%|██▍       | 24/98 [00:04<00:09,  8.10it/s]\u001b[A\n",
      " 27%|██▋       | 26/98 [00:04<00:07,  9.04it/s]\u001b[A\n",
      " 28%|██▊       | 27/98 [00:04<00:11,  5.95it/s]\u001b[A\n",
      " 30%|██▉       | 29/98 [00:05<00:09,  7.04it/s]\u001b[A\n",
      " 32%|███▏      | 31/98 [00:05<00:08,  8.03it/s]\u001b[A\n",
      " 34%|███▎      | 33/98 [00:05<00:07,  8.71it/s]\u001b[A\n",
      " 36%|███▌      | 35/98 [00:05<00:06,  9.94it/s]\u001b[A\n",
      " 38%|███▊      | 37/98 [00:05<00:06,  9.12it/s]\u001b[A\n",
      " 40%|███▉      | 39/98 [00:05<00:06,  9.57it/s]\u001b[A\n",
      " 42%|████▏     | 41/98 [00:06<00:05, 10.21it/s]\u001b[A\n",
      " 44%|████▍     | 43/98 [00:06<00:05,  9.98it/s]\u001b[A\n",
      " 46%|████▌     | 45/98 [00:06<00:05, 10.41it/s]\u001b[A\n",
      " 48%|████▊     | 47/98 [00:06<00:04, 11.01it/s]\u001b[A\n",
      " 50%|█████     | 49/98 [00:06<00:04, 10.45it/s]\u001b[A\n",
      " 52%|█████▏    | 51/98 [00:07<00:04, 10.39it/s]\u001b[A\n",
      " 54%|█████▍    | 53/98 [00:07<00:05,  8.02it/s]\u001b[A\n",
      " 55%|█████▌    | 54/98 [00:07<00:08,  4.90it/s]\u001b[A\n",
      " 57%|█████▋    | 56/98 [00:08<00:07,  5.56it/s]\u001b[A\n",
      " 59%|█████▉    | 58/98 [00:08<00:05,  6.68it/s]\u001b[A\n",
      " 60%|██████    | 59/98 [00:08<00:05,  7.09it/s]\u001b[A\n",
      " 62%|██████▏   | 61/98 [00:08<00:04,  8.04it/s]\u001b[A\n",
      " 64%|██████▍   | 63/98 [00:08<00:03,  9.00it/s]\u001b[A\n",
      " 66%|██████▋   | 65/98 [00:08<00:03,  9.72it/s]\u001b[A\n",
      " 68%|██████▊   | 67/98 [00:09<00:03, 10.04it/s]\u001b[A\n",
      " 70%|███████   | 69/98 [00:09<00:03,  8.55it/s]\u001b[A\n",
      " 71%|███████▏  | 70/98 [00:09<00:03,  8.71it/s]\u001b[A\n",
      " 73%|███████▎  | 72/98 [00:09<00:02,  9.57it/s]\u001b[A\n",
      " 76%|███████▌  | 74/98 [00:09<00:02, 10.31it/s]\u001b[A\n",
      " 78%|███████▊  | 76/98 [00:09<00:02, 10.86it/s]\u001b[A\n",
      " 80%|███████▉  | 78/98 [00:10<00:01, 11.36it/s]\u001b[A\n",
      " 82%|████████▏ | 80/98 [00:10<00:01,  9.03it/s]\u001b[A\n",
      " 84%|████████▎ | 82/98 [00:10<00:01,  9.13it/s]\u001b[A\n",
      " 86%|████████▌ | 84/98 [00:11<00:02,  6.71it/s]\u001b[A\n",
      " 87%|████████▋ | 85/98 [00:11<00:03,  4.31it/s]\u001b[A\n",
      " 88%|████████▊ | 86/98 [00:11<00:02,  4.06it/s]\u001b[A\n",
      " 89%|████████▉ | 87/98 [00:12<00:03,  3.66it/s]\u001b[A\n",
      " 91%|█████████ | 89/98 [00:12<00:02,  4.07it/s]\u001b[A\n",
      " 92%|█████████▏| 90/98 [00:12<00:01,  4.47it/s]\u001b[A\n",
      " 94%|█████████▍| 92/98 [00:13<00:01,  4.36it/s]\u001b[A\n",
      " 95%|█████████▍| 93/98 [00:13<00:01,  4.07it/s]\u001b[A\n",
      " 96%|█████████▌| 94/98 [00:13<00:00,  4.83it/s]\u001b[A\n",
      " 97%|█████████▋| 95/98 [00:14<00:00,  3.66it/s]\u001b[A\n",
      " 98%|█████████▊| 96/98 [00:14<00:00,  3.23it/s]\u001b[A\n",
      " 99%|█████████▉| 97/98 [00:14<00:00,  3.38it/s]\u001b[A\n",
      "                                               \u001b[A"
     ]
    },
    {
     "name": "stdout",
     "output_type": "stream",
     "text": [
      "             precision    recall  f1-score   support\n",
      "\n",
      "     B_MISC      0.834     0.831     0.833       688\n",
      "      B_PER      0.947     0.962     0.954      1566\n",
      "      I_PER      0.979     0.994     0.986      1134\n",
      "      B_LOC      0.916     0.929     0.922      1570\n",
      "      I_ORG      0.868     0.892     0.880       835\n",
      "     I_MISC      0.664     0.721     0.691       222\n",
      "      I_LOC      0.841     0.871     0.856       249\n",
      "\n",
      "avg / total      0.908     0.924     0.916      6264\n",
      "\n"
     ]
    }
   ],
   "source": [
    "from modules.train.train import validate_step\n",
    "print(validate_step(data.valid_dl, model, learner.data.id2label, learner.sup_labels))"
   ]
  },
  {
   "cell_type": "markdown",
   "metadata": {},
   "source": [
    "Span precision"
   ]
  },
  {
   "cell_type": "code",
   "execution_count": 292,
   "metadata": {},
   "outputs": [
    {
     "name": "stdout",
     "output_type": "stream",
     "text": [
      "             precision    recall  f1-score   support\n",
      "\n",
      "        LOC      0.846     0.862     0.854      1570\n",
      "          O      0.981     0.977     0.979     37705\n",
      "        PER      0.863     0.883     0.873      1566\n",
      "        ORG      0.689     0.703     0.696      1533\n",
      "       MISC      0.752     0.792     0.771       688\n",
      "\n",
      "avg / total      0.957     0.957     0.957     43062\n",
      "\n"
     ]
    }
   ],
   "source": [
    "from modules.utils.plot_metrics import get_bert_span_report\n",
    "clf_report = get_bert_span_report(dl, preds, [])\n",
    "print(clf_report)"
   ]
  },
  {
   "cell_type": "markdown",
   "metadata": {},
   "source": [
    "### 6a. Basic sensitivity analysis"
   ]
  },
  {
   "cell_type": "code",
   "execution_count": 46,
   "metadata": {},
   "outputs": [],
   "source": [
    "param_sizes = {}\n",
    "for name, param in model.named_parameters():\n",
    "    param_sizes[name] = torch.norm(param.view(-1), p=0).item()"
   ]
  },
  {
   "cell_type": "code",
   "execution_count": 63,
   "metadata": {},
   "outputs": [
    {
     "data": {
      "text/plain": [
       "(179005021.0, 28514304.0, 28348416.0)"
      ]
     },
     "execution_count": 63,
     "metadata": {},
     "output_type": "execute_result"
    }
   ],
   "source": [
    "attn_total = 0.\n",
    "int_total = 0.\n",
    "total = 0.\n",
    "for name, n_params in param_sizes.items():\n",
    "    total += n_params\n",
    "    if 'attention' in name:\n",
    "        attn_total += n_params\n",
    "    if 'intermediate' in name:\n",
    "        int_total += n_params\n",
    "\n",
    "total, attn_total, int_total"
   ]
  },
  {
   "cell_type": "code",
   "execution_count": 243,
   "metadata": {},
   "outputs": [],
   "source": [
    "import matplotlib.pylab as plt\n",
    "import numpy as np\n",
    "import matplotlib.patches as mpatches\n",
    "# plt.bar(param_sizes.keys(), param_sizes.values(), 1., color='g')"
   ]
  },
  {
   "cell_type": "code",
   "execution_count": null,
   "metadata": {},
   "outputs": [],
   "source": [
    "param_sizes"
   ]
  },
  {
   "cell_type": "code",
   "execution_count": 165,
   "metadata": {},
   "outputs": [],
   "source": [
    "encoder_keys = set(filter(lambda t: 'encoder' in t, param_sizes.keys()))\n",
    "# group by parameter types\n",
    "grouped_params = {}\n",
    "for name in encoder_keys:\n",
    "    # exclude bias, gamma, and beta terms\n",
    "    if 'bias' in name or 'gamma' in name or 'beta' in name or 'decoder' in name:\n",
    "        continue\n",
    "    n_params = param_sizes[name]\n",
    "    group = None\n",
    "    if 'attention.self.query' in name:\n",
    "        group = 'encoder.attention.self.query'\n",
    "    elif 'attention.self.key' in name:\n",
    "        group = 'encoder.attention.self.key'\n",
    "    elif 'attention.self.value' in name:\n",
    "        group = 'encoder.attention.self.value'\n",
    "    elif 'attention.output' in name:\n",
    "        group = 'encoder.attention.output'\n",
    "    elif 'output' in name:\n",
    "        group = 'encoder.output'\n",
    "    elif 'intermediate' in name:\n",
    "        group = 'encoder.intermediate'\n",
    "    elif 'lstm' in name:\n",
    "        group = 'encoder.lstm'\n",
    "    \n",
    "    if group is None:\n",
    "        group = name.replace('encoder.', '')\n",
    "        group = group.replace('embeddings.model.embeddings.','')\n",
    "        group = 'encoder.' + group\n",
    "    if group not in grouped_params:\n",
    "        grouped_params[group] = n_params\n",
    "    else:\n",
    "        grouped_params[group] += n_params\n"
   ]
  },
  {
   "cell_type": "code",
   "execution_count": 166,
   "metadata": {},
   "outputs": [],
   "source": [
    "grouped_list = list(grouped_params.items())\n",
    "grouped_list = sorted(grouped_list, key=lambda t: -t[1])\n",
    "grouped_params = dict(grouped_list)"
   ]
  },
  {
   "cell_type": "code",
   "execution_count": 167,
   "metadata": {},
   "outputs": [
    {
     "data": {
      "text/plain": [
       "{'encoder.word_embeddings.weight': 91812096.0,\n",
       " 'encoder.intermediate': 28311552.0,\n",
       " 'encoder.output': 28311552.0,\n",
       " 'encoder.attention.self.value': 7077888.0,\n",
       " 'encoder.attention.self.query': 7077888.0,\n",
       " 'encoder.attention.output': 7077888.0,\n",
       " 'encoder.attention.self.key': 7077888.0,\n",
       " 'encoder.lstm': 917504.0,\n",
       " 'encoder.embeddings.model.pooler.dense.weight': 589824.0,\n",
       " 'encoder.position_embeddings.weight': 393216.0,\n",
       " 'encoder.token_type_embeddings.weight': 1536.0,\n",
       " 'encoder.embeddings.bert_weights': 12.0}"
      ]
     },
     "execution_count": 167,
     "metadata": {},
     "output_type": "execute_result"
    }
   ],
   "source": [
    "grouped_params"
   ]
  },
  {
   "cell_type": "code",
   "execution_count": 264,
   "metadata": {},
   "outputs": [],
   "source": [
    "len(grouped_params.keys())\n",
    "colors = [MPC,'r','xkcd:green','orange','orange','orange','orange','purple','purple','purple','purple','purple']\n"
   ]
  },
  {
   "cell_type": "code",
   "execution_count": 286,
   "metadata": {},
   "outputs": [
    {
     "data": {
      "text/plain": [
       "Text(0.5,1,'Parameter distribution (encoder)')"
      ]
     },
     "execution_count": 286,
     "metadata": {},
     "output_type": "execute_result"
    },
    {
     "data": {
      "image/png": "[encoded data removed]",
      "text/plain": [
       "<Figure size 432x288 with 1 Axes>"
      ]
     },
     "metadata": {},
     "output_type": "display_data"
    }
   ],
   "source": [
    "plt.bar(grouped_params.keys(), (list(grouped_params.values())), .9, color=colors)\n",
    "plt.xticks(rotation=90)\n",
    "plt.ylabel('Num. params')\n",
    "plt.title('Parameter distribution (encoder)')"
   ]
  },
  {
   "cell_type": "code",
   "execution_count": 112,
   "metadata": {},
   "outputs": [
    {
     "data": {
      "text/plain": [
       "77856768.0"
      ]
     },
     "execution_count": 112,
     "metadata": {},
     "output_type": "execute_result"
    }
   ],
   "source": [
    "sum(grouped_params.values()) - grouped_params['intermediate']"
   ]
  },
  {
   "cell_type": "code",
   "execution_count": 185,
   "metadata": {},
   "outputs": [],
   "source": [
    "decoder_keys = set(filter(lambda t: 'decoder' in t, param_sizes.keys()))\n",
    "grouped_dec_params = {}\n",
    "\n",
    "for name in decoder_keys:\n",
    "    if 'bias' in name or 'gamma' in name or 'beta' in name or 'encoder' in name:\n",
    "        continue\n",
    "    n_params = param_sizes[name]\n",
    "    group = None\n",
    "    if 'attn' in name:\n",
    "        group = 'decoder.attention'\n",
    "    elif 'linear' in name:\n",
    "        group = 'decoder.linear'\n",
    "\n",
    "    if group is None:\n",
    "        group = name\n",
    "    if group not in grouped_dec_params:\n",
    "        grouped_dec_params[group] = n_params\n",
    "    else:\n",
    "        grouped_dec_params[group] += n_params\n"
   ]
  },
  {
   "cell_type": "code",
   "execution_count": 186,
   "metadata": {},
   "outputs": [],
   "source": [
    "grouped_dec_list = list(grouped_dec_params.items())\n",
    "grouped_dec_list = sorted(grouped_dec_list, key=lambda t: -t[1])\n",
    "grouped_dec_params = dict(grouped_dec_list)"
   ]
  },
  {
   "cell_type": "code",
   "execution_count": 298,
   "metadata": {},
   "outputs": [
    {
     "data": {
      "text/plain": [
       "Text(0.5,1,'Parameter distribution (decoder)')"
      ]
     },
     "execution_count": 298,
     "metadata": {},
     "output_type": "execute_result"
    },
    {
     "data": {
      "image/png": "[encoded data removed]",
      "text/plain": [
       "<Figure size 432x288 with 1 Axes>"
      ]
     },
     "metadata": {},
     "output_type": "display_data"
    }
   ],
   "source": [
    "plt.bar(grouped_dec_params.keys(), (list(grouped_dec_params.values())), .5,color=[MPC,'orange','xkcd:green'])\n",
    "plt.xticks(rotation=90)\n",
    "plt.ylabel('Num. params')\n",
    "plt.title('Parameter distribution (decoder)')"
   ]
  },
  {
   "cell_type": "code",
   "execution_count": 281,
   "metadata": {},
   "outputs": [],
   "source": [
    "merged = {**grouped_params, **grouped_dec_params}\n",
    "merge_list = list(merged.items())\n",
    "merge_list = sorted(merge_list, key=lambda t: -t[1])\n",
    "merged = dict(merge_list)"
   ]
  },
  {
   "cell_type": "code",
   "execution_count": 282,
   "metadata": {},
   "outputs": [],
   "source": [
    "MPC = '#1F78B4'\n",
    "colorlist = list(map(lambda k: MPC if 'encoder' in k else 'orange', merged.keys()))\n",
    "leglist = list(map(lambda k: 'encoder' if 'encoder' in k else 'decoder', merged.keys()))"
   ]
  },
  {
   "cell_type": "code",
   "execution_count": 283,
   "metadata": {},
   "outputs": [
    {
     "data": {
      "image/png": "[encoded data removed]",
      "text/plain": [
       "<Figure size 432x288 with 1 Axes>"
      ]
     },
     "metadata": {},
     "output_type": "display_data"
    }
   ],
   "source": [
    "plt.bar(merged.keys(), np.log(list(merged.values())), .5, color=colorlist)\n",
    "\n",
    "enc = mpatches.Patch(color=MPC, label='encoder')\n",
    "dec = mpatches.Patch(color='orange', label='decoder')\n",
    "\n",
    "plt.legend(handles=[enc,dec])\n",
    "plt.xticks(rotation=90)\n",
    "plt.ylabel('Num. params ($\\exp \\: x$)')\n",
    "plt.title('Parameter distribution (combined)')\n",
    "plt.show()"
   ]
  },
  {
   "cell_type": "code",
   "execution_count": 278,
   "metadata": {},
   "outputs": [],
   "source": [
    "MPC = '#1F78B4'\n",
    "colorlist = list(map(lambda k: 'orange' if 'attention' in k else MPC, merged.keys()))\n",
    "leglist = list(map(lambda k: 'attention' if 'attention' in k else 'dense', merged.keys()))"
   ]
  },
  {
   "cell_type": "code",
   "execution_count": 299,
   "metadata": {},
   "outputs": [
    {
     "data": {
      "image/png": "[encoded data removed]",
      "text/plain": [
       "<Figure size 432x288 with 1 Axes>"
      ]
     },
     "metadata": {},
     "output_type": "display_data"
    }
   ],
   "source": [
    "plt.bar(merged.keys(), np.log(list(merged.values())), .5, color=colorlist)\n",
    "\n",
    "enc = mpatches.Patch(color=MPC, label='dense')\n",
    "dec = mpatches.Patch(color='orange', label='attention')\n",
    "\n",
    "plt.legend(handles=[enc,dec])\n",
    "plt.xticks(rotation=90)\n",
    "plt.ylabel('Num. params ($e^x$)')\n",
    "plt.title('Parameter distribution (combined)')\n",
    "plt.show()"
   ]
  },
  {
   "cell_type": "code",
   "execution_count": 290,
   "metadata": {},
   "outputs": [],
   "source": [
    "#torch.save(model.state_dict(), open('/home/ec2-user/datadrive/models/conll-2003/bilstm_attn_trained_for_sensitivity.cpt', 'wb'))"
   ]
  },
  {
   "cell_type": "markdown",
   "metadata": {},
   "source": [
    "### 7. Get mean and stdv on 10 runs"
   ]
  },
  {
   "cell_type": "code",
   "execution_count": null,
   "metadata": {},
   "outputs": [],
   "source": [
    "from modules.utils.plot_metrics import *\n",
    "from modules import NerLearner\n",
    "\n",
    "\n",
    "num_runs = 10\n",
    "best_reports = []\n",
    "num_epochs = 100\n",
    "for i in range(num_runs):\n",
    "    model = BertBiLSTMAttnCRF.create(len(data.label2idx), bert_config_file, init_checkpoint_pt, enc_hidden_dim=256)\n",
    "    best_model_path = \"/home/ec2-user/datadrive/models/conll-2003/exp_{}_attn_cased.cpt\".format(i)\n",
    "    learner = NerLearner(model, data,\n",
    "                         best_model_path=best_model_path, verbose=False,\n",
    "                         lr=0.001, clip=5.0, sup_labels=data.id2label[5:], t_total=num_epochs * len(data.train_dl))\n",
    "    learner.fit(num_epochs, target_metric='f1')\n",
    "    idx, res = get_mean_max_metric(learner.history, \"f1\", True)\n",
    "    best_reports.append(learner.history[idx])"
   ]
  },
  {
   "cell_type": "code",
   "execution_count": 17,
   "metadata": {},
   "outputs": [],
   "source": [
    "import numpy as np"
   ]
  },
  {
   "cell_type": "markdown",
   "metadata": {},
   "source": [
    "#### f1"
   ]
  },
  {
   "cell_type": "markdown",
   "metadata": {},
   "source": [
    "Mean and std"
   ]
  },
  {
   "cell_type": "code",
   "execution_count": 18,
   "metadata": {
    "scrolled": true
   },
   "outputs": [
    {
     "data": {
      "text/plain": [
       "(0.949, 0.002)"
      ]
     },
     "execution_count": 18,
     "metadata": {},
     "output_type": "execute_result"
    }
   ],
   "source": [
    "np.mean([get_mean_max_metric([r]) for r in best_reports]), np.round(np.std([get_mean_max_metric([r]) for r in best_reports]), 3)"
   ]
  },
  {
   "cell_type": "markdown",
   "metadata": {},
   "source": [
    "Best"
   ]
  },
  {
   "cell_type": "code",
   "execution_count": 19,
   "metadata": {},
   "outputs": [
    {
     "data": {
      "text/plain": [
       "0.951"
      ]
     },
     "execution_count": 19,
     "metadata": {},
     "output_type": "execute_result"
    }
   ],
   "source": [
    "get_mean_max_metric(best_reports)"
   ]
  },
  {
   "cell_type": "markdown",
   "metadata": {},
   "source": [
    "#### precision"
   ]
  },
  {
   "cell_type": "markdown",
   "metadata": {},
   "source": [
    "Mean and std"
   ]
  },
  {
   "cell_type": "code",
   "execution_count": 20,
   "metadata": {
    "scrolled": true
   },
   "outputs": [
    {
     "data": {
      "text/plain": [
       "(0.9558333333333332, 0.002)"
      ]
     },
     "execution_count": 20,
     "metadata": {},
     "output_type": "execute_result"
    }
   ],
   "source": [
    "np.mean([get_mean_max_metric([r], \"prec\") for r in best_reports]), np.round(np.std([get_mean_max_metric([r], \"prec\") for r in best_reports]), 3)"
   ]
  },
  {
   "cell_type": "markdown",
   "metadata": {},
   "source": [
    "Best"
   ]
  },
  {
   "cell_type": "code",
   "execution_count": 21,
   "metadata": {},
   "outputs": [
    {
     "data": {
      "text/plain": [
       "0.959"
      ]
     },
     "execution_count": 21,
     "metadata": {},
     "output_type": "execute_result"
    }
   ],
   "source": [
    "get_mean_max_metric(best_reports, \"prec\")"
   ]
  },
  {
   "cell_type": "markdown",
   "metadata": {},
   "source": [
    "#### Test set"
   ]
  },
  {
   "cell_type": "code",
   "execution_count": 24,
   "metadata": {},
   "outputs": [],
   "source": [
    "idx = np.array([get_mean_max_metric([r]) for r in best_reports]).argmax()"
   ]
  },
  {
   "cell_type": "code",
   "execution_count": 25,
   "metadata": {},
   "outputs": [],
   "source": [
    "learner.load_model(\"/datadrive/models/conll-2003/exp_{}_attn_cased.cpt\".format(idx))"
   ]
  },
  {
   "cell_type": "code",
   "execution_count": 27,
   "metadata": {},
   "outputs": [],
   "source": [
    "from modules.data.bert_data import get_bert_data_loader_for_predict\n",
    "dl = get_bert_data_loader_for_predict(data_path + \"test.csv\", learner)"
   ]
  },
  {
   "cell_type": "code",
   "execution_count": 37,
   "metadata": {},
   "outputs": [
    {
     "data": {
      "text/plain": [
       "HBox(children=(IntProgress(value=0, max=98), HTML(value='')))"
      ]
     },
     "metadata": {},
     "output_type": "display_data"
    },
    {
     "name": "stdout",
     "output_type": "stream",
     "text": [
      "              precision    recall  f1-score   support\n",
      "\n",
      "         I_O      0.968     0.972     0.970     10257\n",
      "      B_MISC      0.873     0.817     0.844       688\n",
      "       B_PER      0.961     0.963     0.962      1566\n",
      "       I_PER      0.970     0.971     0.970      3347\n",
      "       B_LOC      0.932     0.926     0.929      1570\n",
      "       I_LOC      0.904     0.870     0.887      1444\n",
      "       I_ORG      0.888     0.922     0.905      2546\n",
      "      I_MISC      0.746     0.611     0.672       839\n",
      "\n",
      "   micro avg      0.942     0.937     0.940     22257\n",
      "   macro avg      0.905     0.882     0.892     22257\n",
      "weighted avg      0.941     0.937     0.939     22257\n",
      "\n"
     ]
    }
   ],
   "source": [
    "from modules.train.train import validate_step\n",
    "print(validate_step(dl, learner.model, learner.data.id2label, learner.sup_labels))"
   ]
  },
  {
   "cell_type": "code",
   "execution_count": 293,
   "metadata": {},
   "outputs": [],
   "source": [
    "def contains(key, arr):\n",
    "    for v in arr:\n",
    "        if key in v:\n",
    "            return True\n",
    "    return False"
   ]
  },
  {
   "cell_type": "code",
   "execution_count": 297,
   "metadata": {},
   "outputs": [
    {
     "data": {
      "text/plain": [
       "False"
      ]
     },
     "execution_count": 297,
     "metadata": {},
     "output_type": "execute_result"
    }
   ],
   "source": [
    "contains('barz',['embedding.model.foo.bar'])"
   ]
  },
  {
   "cell_type": "code",
   "execution_count": null,
   "metadata": {},
   "outputs": [],
   "source": []
  }
 ],
 "metadata": {
  "kernelspec": {
   "display_name": "Python 3",
   "language": "python",
   "name": "python3"
  },
  "language_info": {
   "codemirror_mode": {
    "name": "ipython",
    "version": 3
   },
   "file_extension": ".py",
   "mimetype": "text/x-python",
   "name": "python",
   "nbconvert_exporter": "python",
   "pygments_lexer": "ipython3",
   "version": "3.6.5"
  }
 },
 "nbformat": 4,
 "nbformat_minor": 2
}
